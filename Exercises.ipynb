{
 "cells": [
  {
   "cell_type": "code",
   "execution_count": 1,
   "metadata": {},
   "outputs": [],
   "source": [
    "import random\n",
    "#from sortedcontainers import SortedList\n",
    "import arrow\n",
    "\n",
    "from cassiopeia.core import Summoner, MatchHistory, Match\n",
    "from cassiopeia import Queue, Patch\n",
    "import cassiopeia as cass\n",
    "cass.set_riot_api_key(\"RGAPI-9512c45c-bda1-4bb4-818c-9ad68be3855b\")\n",
    "\n",
    "def filter_match_history(summoner, patch):\n",
    "    end_time = Patch.end\n",
    "    if end_time is None:\n",
    "        end_time = arrow.now()\n",
    "    match_history = MatchHistory(summoner=summoner, queues={Queue.aram}, begin_time=Patch.start, end_time=end_time)\n",
    "    return match_history"
   ]
  },
  {
   "cell_type": "code",
   "execution_count": 2,
   "metadata": {},
   "outputs": [
    {
     "ename": "TypeError",
     "evalue": "__get_query_from_kwargs__() got an unexpected keyword argument 'summoner'",
     "output_type": "error",
     "traceback": [
      "\u001b[1;31m---------------------------------------------------------------------------\u001b[0m",
      "\u001b[1;31mTypeError\u001b[0m                                 Traceback (most recent call last)",
      "\u001b[1;32m<ipython-input-2-21f62677dd1c>\u001b[0m in \u001b[0;36m<module>\u001b[1;34m\u001b[0m\n\u001b[1;32m----> 1\u001b[1;33m \u001b[0mmatch_history\u001b[0m \u001b[1;33m=\u001b[0m \u001b[0mMatchHistory\u001b[0m\u001b[1;33m(\u001b[0m\u001b[0msummoner\u001b[0m\u001b[1;33m=\u001b[0m\u001b[1;34m\"paragon violet\"\u001b[0m\u001b[1;33m,\u001b[0m \u001b[0mqueues\u001b[0m\u001b[1;33m=\u001b[0m\u001b[1;33m{\u001b[0m\u001b[0mQueue\u001b[0m\u001b[1;33m.\u001b[0m\u001b[0mranked_solo_fives\u001b[0m\u001b[1;33m}\u001b[0m\u001b[1;33m,\u001b[0m \u001b[0mbegin_time\u001b[0m\u001b[1;33m=\u001b[0m\u001b[0mPatch\u001b[0m\u001b[1;33m.\u001b[0m\u001b[0mstart\u001b[0m\u001b[1;33m,\u001b[0m \u001b[0mend_time\u001b[0m\u001b[1;33m=\u001b[0m\u001b[0marrow\u001b[0m\u001b[1;33m.\u001b[0m\u001b[0mnow\u001b[0m\u001b[1;33m(\u001b[0m\u001b[1;33m)\u001b[0m\u001b[1;33m)\u001b[0m\u001b[1;33m\u001b[0m\u001b[1;33m\u001b[0m\u001b[0m\n\u001b[0m",
      "\u001b[1;32mc:\\programdata\\miniconda3\\lib\\site-packages\\cassiopeia\\core\\common.py\u001b[0m in \u001b[0;36m__call__\u001b[1;34m(cls, *args, **kwargs)\u001b[0m\n\u001b[0;32m    175\u001b[0m     \u001b[1;32mdef\u001b[0m \u001b[0m__call__\u001b[0m\u001b[1;33m(\u001b[0m\u001b[0mcls\u001b[0m\u001b[1;33m:\u001b[0m \u001b[1;34m\"CassiopeiaPipelineObject\"\u001b[0m\u001b[1;33m,\u001b[0m \u001b[1;33m*\u001b[0m\u001b[0margs\u001b[0m\u001b[1;33m,\u001b[0m \u001b[1;33m**\u001b[0m\u001b[0mkwargs\u001b[0m\u001b[1;33m)\u001b[0m\u001b[1;33m:\u001b[0m\u001b[1;33m\u001b[0m\u001b[1;33m\u001b[0m\u001b[0m\n\u001b[0;32m    176\u001b[0m         \u001b[0mpipeline\u001b[0m \u001b[1;33m=\u001b[0m \u001b[0mconfiguration\u001b[0m\u001b[1;33m.\u001b[0m\u001b[0msettings\u001b[0m\u001b[1;33m.\u001b[0m\u001b[0mpipeline\u001b[0m\u001b[1;33m\u001b[0m\u001b[1;33m\u001b[0m\u001b[0m\n\u001b[1;32m--> 177\u001b[1;33m         \u001b[0mquery\u001b[0m \u001b[1;33m=\u001b[0m \u001b[0mcls\u001b[0m\u001b[1;33m.\u001b[0m\u001b[0m__get_query_from_kwargs__\u001b[0m\u001b[1;33m(\u001b[0m\u001b[1;33m**\u001b[0m\u001b[0mkwargs\u001b[0m\u001b[1;33m)\u001b[0m\u001b[1;33m\u001b[0m\u001b[1;33m\u001b[0m\u001b[0m\n\u001b[0m\u001b[0;32m    178\u001b[0m         \u001b[1;32mif\u001b[0m \u001b[0mhasattr\u001b[0m\u001b[1;33m(\u001b[0m\u001b[0mcls\u001b[0m\u001b[1;33m,\u001b[0m \u001b[1;34m\"version\"\u001b[0m\u001b[1;33m)\u001b[0m \u001b[1;32mand\u001b[0m \u001b[0mquery\u001b[0m\u001b[1;33m.\u001b[0m\u001b[0mget\u001b[0m\u001b[1;33m(\u001b[0m\u001b[1;34m\"version\"\u001b[0m\u001b[1;33m,\u001b[0m \u001b[1;32mNone\u001b[0m\u001b[1;33m)\u001b[0m \u001b[1;32mis\u001b[0m \u001b[1;32mNone\u001b[0m \u001b[1;32mand\u001b[0m \u001b[0mcls\u001b[0m\u001b[1;33m.\u001b[0m\u001b[0m__name__\u001b[0m \u001b[1;32mnot\u001b[0m \u001b[1;32min\u001b[0m \u001b[1;33m[\u001b[0m\u001b[1;34m\"Realms\"\u001b[0m\u001b[1;33m,\u001b[0m \u001b[1;34m\"Match\"\u001b[0m\u001b[1;33m]\u001b[0m\u001b[1;33m:\u001b[0m\u001b[1;33m\u001b[0m\u001b[1;33m\u001b[0m\u001b[0m\n\u001b[0;32m    179\u001b[0m             \u001b[0mquery\u001b[0m\u001b[1;33m[\u001b[0m\u001b[1;34m\"version\"\u001b[0m\u001b[1;33m]\u001b[0m \u001b[1;33m=\u001b[0m \u001b[0mget_latest_version\u001b[0m\u001b[1;33m(\u001b[0m\u001b[0mregion\u001b[0m\u001b[1;33m=\u001b[0m\u001b[0mquery\u001b[0m\u001b[1;33m[\u001b[0m\u001b[1;34m\"region\"\u001b[0m\u001b[1;33m]\u001b[0m\u001b[1;33m,\u001b[0m \u001b[0mendpoint\u001b[0m\u001b[1;33m=\u001b[0m\u001b[1;32mNone\u001b[0m\u001b[1;33m)\u001b[0m\u001b[1;33m\u001b[0m\u001b[1;33m\u001b[0m\u001b[0m\n",
      "\u001b[1;31mTypeError\u001b[0m: __get_query_from_kwargs__() got an unexpected keyword argument 'summoner'"
     ]
    }
   ],
   "source": [
    "match_history = MatchHistory(summoner=\"paragon violet\", queues={Queue.ranked_solo_fives}, begin_time=Patch.start, end_time=arrow.now())"
   ]
  },
  {
   "cell_type": "code",
   "execution_count": null,
   "metadata": {},
   "outputs": [],
   "source": [
    "summoner.match"
   ]
  },
  {
   "cell_type": "code",
   "execution_count": 24,
   "metadata": {},
   "outputs": [
    {
     "name": "stdout",
     "output_type": "stream",
     "text": [
      "Making call: https://europe.api.riotgames.com/lol/match/v5/matches/by-puuid/Q95RocTqNZc2ssoB5fS3dKPrLRF7pKaUcblRny7DFq4NtEO6SIFmH-4w966aBhwUm_019Tz_XHo-UQ/ids?beginIndex=0&endIndex=100\n"
     ]
    }
   ],
   "source": [
    "me = Summoner(name=\"paragon violet\", region=\"EUW\")\n",
    "match = me.match_history[0]\n",
    "champion_played = match.participants[me].champion"
   ]
  },
  {
   "cell_type": "code",
   "execution_count": null,
   "metadata": {},
   "outputs": [],
   "source": [
    "match = me.match_history[10]"
   ]
  },
  {
   "cell_type": "code",
   "execution_count": null,
   "metadata": {},
   "outputs": [],
   "source": [
    "match.mode.name"
   ]
  },
  {
   "cell_type": "code",
   "execution_count": 5,
   "metadata": {},
   "outputs": [],
   "source": [
    "matches = []"
   ]
  },
  {
   "cell_type": "code",
   "execution_count": 18,
   "metadata": {},
   "outputs": [
    {
     "name": "stdout",
     "output_type": "stream",
     "text": [
      "Making call: https://europe.api.riotgames.com/lol/match/v5/matches/by-puuid/Q95RocTqNZc2ssoB5fS3dKPrLRF7pKaUcblRny7DFq4NtEO6SIFmH-4w966aBhwUm_019Tz_XHo-UQ/ids?beginIndex=0&endIndex=100\n",
      "Making call: https://europe.api.riotgames.com/lol/match/v5/matches/by-puuid/Q95RocTqNZc2ssoB5fS3dKPrLRF7pKaUcblRny7DFq4NtEO6SIFmH-4w966aBhwUm_019Tz_XHo-UQ/ids?beginIndex=0&endIndex=100\n",
      "Making call: https://europe.api.riotgames.com/lol/match/v5/matches/by-puuid/Q95RocTqNZc2ssoB5fS3dKPrLRF7pKaUcblRny7DFq4NtEO6SIFmH-4w966aBhwUm_019Tz_XHo-UQ/ids?beginIndex=0&endIndex=100\n",
      "Making call: https://europe.api.riotgames.com/lol/match/v5/matches/by-puuid/Q95RocTqNZc2ssoB5fS3dKPrLRF7pKaUcblRny7DFq4NtEO6SIFmH-4w966aBhwUm_019Tz_XHo-UQ/ids?beginIndex=0&endIndex=100\n",
      "Making call: https://europe.api.riotgames.com/lol/match/v5/matches/by-puuid/Q95RocTqNZc2ssoB5fS3dKPrLRF7pKaUcblRny7DFq4NtEO6SIFmH-4w966aBhwUm_019Tz_XHo-UQ/ids?beginIndex=0&endIndex=100\n",
      "Making call: https://europe.api.riotgames.com/lol/match/v5/matches/by-puuid/Q95RocTqNZc2ssoB5fS3dKPrLRF7pKaUcblRny7DFq4NtEO6SIFmH-4w966aBhwUm_019Tz_XHo-UQ/ids?beginIndex=0&endIndex=100\n",
      "Making call: https://europe.api.riotgames.com/lol/match/v5/matches/by-puuid/Q95RocTqNZc2ssoB5fS3dKPrLRF7pKaUcblRny7DFq4NtEO6SIFmH-4w966aBhwUm_019Tz_XHo-UQ/ids?beginIndex=0&endIndex=100\n",
      "Making call: https://europe.api.riotgames.com/lol/match/v5/matches/by-puuid/Q95RocTqNZc2ssoB5fS3dKPrLRF7pKaUcblRny7DFq4NtEO6SIFmH-4w966aBhwUm_019Tz_XHo-UQ/ids?beginIndex=0&endIndex=100\n",
      "Making call: https://europe.api.riotgames.com/lol/match/v5/matches/by-puuid/Q95RocTqNZc2ssoB5fS3dKPrLRF7pKaUcblRny7DFq4NtEO6SIFmH-4w966aBhwUm_019Tz_XHo-UQ/ids?beginIndex=0&endIndex=100\n",
      "Making call: https://europe.api.riotgames.com/lol/match/v5/matches/by-puuid/Q95RocTqNZc2ssoB5fS3dKPrLRF7pKaUcblRny7DFq4NtEO6SIFmH-4w966aBhwUm_019Tz_XHo-UQ/ids?beginIndex=0&endIndex=100\n",
      "Making call: https://europe.api.riotgames.com/lol/match/v5/matches/by-puuid/Q95RocTqNZc2ssoB5fS3dKPrLRF7pKaUcblRny7DFq4NtEO6SIFmH-4w966aBhwUm_019Tz_XHo-UQ/ids?beginIndex=0&endIndex=100\n",
      "Making call: https://europe.api.riotgames.com/lol/match/v5/matches/by-puuid/Q95RocTqNZc2ssoB5fS3dKPrLRF7pKaUcblRny7DFq4NtEO6SIFmH-4w966aBhwUm_019Tz_XHo-UQ/ids?beginIndex=0&endIndex=100\n",
      "Making call: https://europe.api.riotgames.com/lol/match/v5/matches/by-puuid/Q95RocTqNZc2ssoB5fS3dKPrLRF7pKaUcblRny7DFq4NtEO6SIFmH-4w966aBhwUm_019Tz_XHo-UQ/ids?beginIndex=0&endIndex=100\n",
      "Making call: https://europe.api.riotgames.com/lol/match/v5/matches/by-puuid/Q95RocTqNZc2ssoB5fS3dKPrLRF7pKaUcblRny7DFq4NtEO6SIFmH-4w966aBhwUm_019Tz_XHo-UQ/ids?beginIndex=0&endIndex=100\n",
      "Making call: https://europe.api.riotgames.com/lol/match/v5/matches/by-puuid/Q95RocTqNZc2ssoB5fS3dKPrLRF7pKaUcblRny7DFq4NtEO6SIFmH-4w966aBhwUm_019Tz_XHo-UQ/ids?beginIndex=0&endIndex=100\n",
      "Making call: https://europe.api.riotgames.com/lol/match/v5/matches/by-puuid/Q95RocTqNZc2ssoB5fS3dKPrLRF7pKaUcblRny7DFq4NtEO6SIFmH-4w966aBhwUm_019Tz_XHo-UQ/ids?beginIndex=0&endIndex=100\n",
      "Making call: https://europe.api.riotgames.com/lol/match/v5/matches/by-puuid/Q95RocTqNZc2ssoB5fS3dKPrLRF7pKaUcblRny7DFq4NtEO6SIFmH-4w966aBhwUm_019Tz_XHo-UQ/ids?beginIndex=0&endIndex=100\n",
      "Making call: https://europe.api.riotgames.com/lol/match/v5/matches/by-puuid/Q95RocTqNZc2ssoB5fS3dKPrLRF7pKaUcblRny7DFq4NtEO6SIFmH-4w966aBhwUm_019Tz_XHo-UQ/ids?beginIndex=0&endIndex=100\n",
      "Making call: https://europe.api.riotgames.com/lol/match/v5/matches/by-puuid/Q95RocTqNZc2ssoB5fS3dKPrLRF7pKaUcblRny7DFq4NtEO6SIFmH-4w966aBhwUm_019Tz_XHo-UQ/ids?beginIndex=0&endIndex=100\n",
      "Making call: https://europe.api.riotgames.com/lol/match/v5/matches/by-puuid/Q95RocTqNZc2ssoB5fS3dKPrLRF7pKaUcblRny7DFq4NtEO6SIFmH-4w966aBhwUm_019Tz_XHo-UQ/ids?beginIndex=0&endIndex=100\n",
      "Making call: https://europe.api.riotgames.com/lol/match/v5/matches/by-puuid/Q95RocTqNZc2ssoB5fS3dKPrLRF7pKaUcblRny7DFq4NtEO6SIFmH-4w966aBhwUm_019Tz_XHo-UQ/ids?beginIndex=0&endIndex=100\n"
     ]
    },
    {
     "ename": "IndexError",
     "evalue": "list index out of range",
     "output_type": "error",
     "traceback": [
      "\u001b[1;31m---------------------------------------------------------------------------\u001b[0m",
      "\u001b[1;31mIndexError\u001b[0m                                Traceback (most recent call last)",
      "\u001b[1;32mc:\\programdata\\miniconda3\\lib\\site-packages\\merakicommons\\container.py\u001b[0m in \u001b[0;36m__getitem__\u001b[1;34m(self, item)\u001b[0m\n\u001b[0;32m    451\u001b[0m         \u001b[1;32mtry\u001b[0m\u001b[1;33m:\u001b[0m\u001b[1;33m\u001b[0m\u001b[1;33m\u001b[0m\u001b[0m\n\u001b[1;32m--> 452\u001b[1;33m             \u001b[1;32mreturn\u001b[0m \u001b[0mlist\u001b[0m\u001b[1;33m.\u001b[0m\u001b[0m__getitem__\u001b[0m\u001b[1;33m(\u001b[0m\u001b[0mself\u001b[0m\u001b[1;33m,\u001b[0m \u001b[0mitem\u001b[0m\u001b[1;33m)\u001b[0m\u001b[1;33m\u001b[0m\u001b[1;33m\u001b[0m\u001b[0m\n\u001b[0m\u001b[0;32m    453\u001b[0m         \u001b[1;32mexcept\u001b[0m \u001b[0mIndexError\u001b[0m\u001b[1;33m:\u001b[0m\u001b[1;33m\u001b[0m\u001b[1;33m\u001b[0m\u001b[0m\n",
      "\u001b[1;31mIndexError\u001b[0m: list index out of range",
      "\nDuring handling of the above exception, another exception occurred:\n",
      "\u001b[1;31mIndexError\u001b[0m                                Traceback (most recent call last)",
      "\u001b[1;32m<ipython-input-18-0d9ade67739d>\u001b[0m in \u001b[0;36m<module>\u001b[1;34m\u001b[0m\n\u001b[0;32m      1\u001b[0m \u001b[1;32mfor\u001b[0m \u001b[0mi\u001b[0m \u001b[1;32min\u001b[0m \u001b[0mrange\u001b[0m\u001b[1;33m(\u001b[0m\u001b[1;36m50\u001b[0m\u001b[1;33m)\u001b[0m\u001b[1;33m:\u001b[0m\u001b[1;33m\u001b[0m\u001b[1;33m\u001b[0m\u001b[0m\n\u001b[1;32m----> 2\u001b[1;33m     \u001b[0mmatches\u001b[0m\u001b[1;33m.\u001b[0m\u001b[0mappend\u001b[0m\u001b[1;33m(\u001b[0m\u001b[0mme\u001b[0m\u001b[1;33m.\u001b[0m\u001b[0mmatch_history\u001b[0m\u001b[1;33m[\u001b[0m\u001b[0mi\u001b[0m\u001b[1;33m]\u001b[0m\u001b[1;33m)\u001b[0m\u001b[1;33m\u001b[0m\u001b[1;33m\u001b[0m\u001b[0m\n\u001b[0m",
      "\u001b[1;32mc:\\programdata\\miniconda3\\lib\\site-packages\\merakicommons\\container.py\u001b[0m in \u001b[0;36m__getitem__\u001b[1;34m(self, item)\u001b[0m\n\u001b[0;32m    601\u001b[0m             \u001b[1;32mif\u001b[0m \u001b[1;32mnot\u001b[0m \u001b[0misinstance\u001b[0m\u001b[1;33m(\u001b[0m\u001b[0mitem\u001b[0m\u001b[1;33m,\u001b[0m \u001b[1;33m(\u001b[0m\u001b[0mint\u001b[0m\u001b[1;33m,\u001b[0m \u001b[0mslice\u001b[0m\u001b[1;33m)\u001b[0m\u001b[1;33m)\u001b[0m\u001b[1;33m:\u001b[0m\u001b[1;33m\u001b[0m\u001b[1;33m\u001b[0m\u001b[0m\n\u001b[0;32m    602\u001b[0m                 \u001b[1;32mraise\u001b[0m \u001b[0mTypeError\u001b[0m\u001b[1;33m\u001b[0m\u001b[1;33m\u001b[0m\u001b[0m\n\u001b[1;32m--> 603\u001b[1;33m             \u001b[1;32mreturn\u001b[0m \u001b[0mLazyList\u001b[0m\u001b[1;33m.\u001b[0m\u001b[0m__getitem__\u001b[0m\u001b[1;33m(\u001b[0m\u001b[0mself\u001b[0m\u001b[1;33m,\u001b[0m \u001b[0mitem\u001b[0m\u001b[1;33m)\u001b[0m\u001b[1;33m\u001b[0m\u001b[1;33m\u001b[0m\u001b[0m\n\u001b[0m\u001b[0;32m    604\u001b[0m         \u001b[1;32mexcept\u001b[0m \u001b[0mTypeError\u001b[0m\u001b[1;33m:\u001b[0m\u001b[1;33m\u001b[0m\u001b[1;33m\u001b[0m\u001b[0m\n\u001b[0;32m    605\u001b[0m             \u001b[1;32mreturn\u001b[0m \u001b[0mSearchableList\u001b[0m\u001b[1;33m.\u001b[0m\u001b[0m__getitem__\u001b[0m\u001b[1;33m(\u001b[0m\u001b[0mself\u001b[0m\u001b[1;33m,\u001b[0m \u001b[0mitem\u001b[0m\u001b[1;33m)\u001b[0m\u001b[1;33m\u001b[0m\u001b[1;33m\u001b[0m\u001b[0m\n",
      "\u001b[1;32mc:\\programdata\\miniconda3\\lib\\site-packages\\merakicommons\\container.py\u001b[0m in \u001b[0;36m__getitem__\u001b[1;34m(self, item)\u001b[0m\n\u001b[0;32m    459\u001b[0m                 \u001b[1;32mpass\u001b[0m\u001b[1;33m\u001b[0m\u001b[1;33m\u001b[0m\u001b[0m\n\u001b[0;32m    460\u001b[0m             \u001b[1;31m# Now that we have 1) enough or 2) all the values, try returning again.\u001b[0m\u001b[1;33m\u001b[0m\u001b[1;33m\u001b[0m\u001b[1;33m\u001b[0m\u001b[0m\n\u001b[1;32m--> 461\u001b[1;33m             \u001b[1;32mreturn\u001b[0m \u001b[0mlist\u001b[0m\u001b[1;33m.\u001b[0m\u001b[0m__getitem__\u001b[0m\u001b[1;33m(\u001b[0m\u001b[0mself\u001b[0m\u001b[1;33m,\u001b[0m \u001b[0mitem\u001b[0m\u001b[1;33m)\u001b[0m\u001b[1;33m\u001b[0m\u001b[1;33m\u001b[0m\u001b[0m\n\u001b[0m\u001b[0;32m    462\u001b[0m \u001b[1;33m\u001b[0m\u001b[0m\n\u001b[0;32m    463\u001b[0m     \u001b[1;32mdef\u001b[0m \u001b[0m__delitem__\u001b[0m\u001b[1;33m(\u001b[0m\u001b[0mself\u001b[0m\u001b[1;33m,\u001b[0m \u001b[0mitem\u001b[0m\u001b[1;33m:\u001b[0m \u001b[0mAny\u001b[0m\u001b[1;33m)\u001b[0m \u001b[1;33m->\u001b[0m \u001b[1;32mNone\u001b[0m\u001b[1;33m:\u001b[0m\u001b[1;33m\u001b[0m\u001b[1;33m\u001b[0m\u001b[0m\n",
      "\u001b[1;31mIndexError\u001b[0m: list index out of range"
     ]
    }
   ],
   "source": [
    "for i in range(50):\n",
    "    matches.append(me.match_history[i])"
   ]
  },
  {
   "cell_type": "code",
   "execution_count": 19,
   "metadata": {},
   "outputs": [
    {
     "data": {
      "text/plain": [
       "40"
      ]
     },
     "execution_count": 19,
     "metadata": {},
     "output_type": "execute_result"
    }
   ],
   "source": [
    "len(matches)"
   ]
  },
  {
   "cell_type": "code",
   "execution_count": 38,
   "metadata": {},
   "outputs": [
    {
     "ename": "AttributeError",
     "evalue": "'ParticipantTimeline' object has no attribute 'cs_diff_per_min_deltas'",
     "output_type": "error",
     "traceback": [
      "\u001b[1;31m---------------------------------------------------------------------------\u001b[0m",
      "\u001b[1;31mAttributeError\u001b[0m                            Traceback (most recent call last)",
      "\u001b[1;32m<ipython-input-38-3c08b9dc5b56>\u001b[0m in \u001b[0;36m<module>\u001b[1;34m\u001b[0m\n\u001b[1;32m----> 1\u001b[1;33m \u001b[0mmatches\u001b[0m\u001b[1;33m[\u001b[0m\u001b[1;36m0\u001b[0m\u001b[1;33m]\u001b[0m\u001b[1;33m.\u001b[0m\u001b[0mparticipants\u001b[0m\u001b[1;33m[\u001b[0m\u001b[1;34m\"Paragon Violet\"\u001b[0m\u001b[1;33m]\u001b[0m\u001b[1;33m.\u001b[0m\u001b[0mtimeline\u001b[0m\u001b[1;33m.\u001b[0m\u001b[0mcs_diff_per_min_deltas\u001b[0m\u001b[1;33m[\u001b[0m\u001b[1;34m'0-10'\u001b[0m\u001b[1;33m]\u001b[0m\u001b[1;33m\u001b[0m\u001b[1;33m\u001b[0m\u001b[0m\n\u001b[0m\u001b[0;32m      2\u001b[0m \u001b[1;33m\u001b[0m\u001b[0m\n\u001b[0;32m      3\u001b[0m \u001b[1;33m\u001b[0m\u001b[0m\n",
      "\u001b[1;31mAttributeError\u001b[0m: 'ParticipantTimeline' object has no attribute 'cs_diff_per_min_deltas'"
     ]
    }
   ],
   "source": [
    " matches[0].participants[\"Paragon Violet\"].timeline.\n",
    "    \n",
    "    "
   ]
  },
  {
   "cell_type": "code",
   "execution_count": 59,
   "metadata": {},
   "outputs": [
    {
     "ename": "WrongValueTypeError",
     "evalue": "id must be of type str in query! Got 5624769277.",
     "output_type": "error",
     "traceback": [
      "\u001b[1;31m---------------------------------------------------------------------------\u001b[0m",
      "\u001b[1;31mAttributeError\u001b[0m                            Traceback (most recent call last)",
      "\u001b[1;32mc:\\programdata\\miniconda3\\lib\\site-packages\\merakicommons\\cache.py\u001b[0m in \u001b[0;36mwrapper\u001b[1;34m(self)\u001b[0m\n\u001b[0;32m     14\u001b[0m         \u001b[1;32mtry\u001b[0m\u001b[1;33m:\u001b[0m\u001b[1;33m\u001b[0m\u001b[1;33m\u001b[0m\u001b[0m\n\u001b[1;32m---> 15\u001b[1;33m             \u001b[1;32mreturn\u001b[0m \u001b[0mgetattr\u001b[0m\u001b[1;33m(\u001b[0m\u001b[0mself\u001b[0m\u001b[1;33m,\u001b[0m \u001b[0ms\u001b[0m\u001b[1;33m)\u001b[0m\u001b[1;33m\u001b[0m\u001b[1;33m\u001b[0m\u001b[0m\n\u001b[0m\u001b[0;32m     16\u001b[0m         \u001b[1;32mexcept\u001b[0m \u001b[0mAttributeError\u001b[0m\u001b[1;33m:\u001b[0m\u001b[1;33m\u001b[0m\u001b[1;33m\u001b[0m\u001b[0m\n",
      "\u001b[1;31mAttributeError\u001b[0m: 'Match' object has no attribute '_lazy__timeline'",
      "\nDuring handling of the above exception, another exception occurred:\n",
      "\u001b[1;31mWrongValueTypeError\u001b[0m                       Traceback (most recent call last)",
      "\u001b[1;32m<ipython-input-59-b6526cdabe52>\u001b[0m in \u001b[0;36m<module>\u001b[1;34m\u001b[0m\n\u001b[1;32m----> 1\u001b[1;33m \u001b[0mmatches\u001b[0m\u001b[1;33m[\u001b[0m\u001b[1;36m0\u001b[0m\u001b[1;33m]\u001b[0m\u001b[1;33m.\u001b[0m\u001b[0mparticipants\u001b[0m\u001b[1;33m[\u001b[0m\u001b[1;36m0\u001b[0m\u001b[1;33m]\u001b[0m\u001b[1;33m.\u001b[0m\u001b[0mtimeline\u001b[0m\u001b[1;33m.\u001b[0m\u001b[0mevents\u001b[0m\u001b[1;33m\u001b[0m\u001b[1;33m\u001b[0m\u001b[0m\n\u001b[0m",
      "\u001b[1;32mc:\\programdata\\miniconda3\\lib\\site-packages\\cassiopeia\\core\\match.py\u001b[0m in \u001b[0;36mevents\u001b[1;34m(self)\u001b[0m\n\u001b[0;32m    700\u001b[0m     \u001b[1;32mdef\u001b[0m \u001b[0mevents\u001b[0m\u001b[1;33m(\u001b[0m\u001b[0mself\u001b[0m\u001b[1;33m)\u001b[0m\u001b[1;33m:\u001b[0m\u001b[1;33m\u001b[0m\u001b[1;33m\u001b[0m\u001b[0m\n\u001b[0;32m    701\u001b[0m         \u001b[0mmy_events\u001b[0m \u001b[1;33m=\u001b[0m \u001b[1;33m[\u001b[0m\u001b[1;33m]\u001b[0m\u001b[1;33m\u001b[0m\u001b[1;33m\u001b[0m\u001b[0m\n\u001b[1;32m--> 702\u001b[1;33m         \u001b[0mtimeline\u001b[0m \u001b[1;33m=\u001b[0m \u001b[0mself\u001b[0m\u001b[1;33m.\u001b[0m\u001b[0m__match\u001b[0m\u001b[1;33m.\u001b[0m\u001b[0mtimeline\u001b[0m\u001b[1;33m\u001b[0m\u001b[1;33m\u001b[0m\u001b[0m\n\u001b[0m\u001b[0;32m    703\u001b[0m         \u001b[1;32mfor\u001b[0m \u001b[0mframe\u001b[0m \u001b[1;32min\u001b[0m \u001b[0mtimeline\u001b[0m\u001b[1;33m.\u001b[0m\u001b[0mframes\u001b[0m\u001b[1;33m:\u001b[0m\u001b[1;33m\u001b[0m\u001b[1;33m\u001b[0m\u001b[0m\n\u001b[0;32m    704\u001b[0m             \u001b[1;32mfor\u001b[0m \u001b[0mevent\u001b[0m \u001b[1;32min\u001b[0m \u001b[0mframe\u001b[0m\u001b[1;33m.\u001b[0m\u001b[0mevents\u001b[0m\u001b[1;33m:\u001b[0m\u001b[1;33m\u001b[0m\u001b[1;33m\u001b[0m\u001b[0m\n",
      "\u001b[1;32mc:\\programdata\\miniconda3\\lib\\site-packages\\merakicommons\\cache.py\u001b[0m in \u001b[0;36mwrapper\u001b[1;34m(self)\u001b[0m\n\u001b[0;32m     15\u001b[0m             \u001b[1;32mreturn\u001b[0m \u001b[0mgetattr\u001b[0m\u001b[1;33m(\u001b[0m\u001b[0mself\u001b[0m\u001b[1;33m,\u001b[0m \u001b[0ms\u001b[0m\u001b[1;33m)\u001b[0m\u001b[1;33m\u001b[0m\u001b[1;33m\u001b[0m\u001b[0m\n\u001b[0;32m     16\u001b[0m         \u001b[1;32mexcept\u001b[0m \u001b[0mAttributeError\u001b[0m\u001b[1;33m:\u001b[0m\u001b[1;33m\u001b[0m\u001b[1;33m\u001b[0m\u001b[0m\n\u001b[1;32m---> 17\u001b[1;33m             \u001b[0mvalue\u001b[0m \u001b[1;33m=\u001b[0m \u001b[0mmethod\u001b[0m\u001b[1;33m(\u001b[0m\u001b[0mself\u001b[0m\u001b[1;33m)\u001b[0m\u001b[1;33m\u001b[0m\u001b[1;33m\u001b[0m\u001b[0m\n\u001b[0m\u001b[0;32m     18\u001b[0m             \u001b[0msetattr\u001b[0m\u001b[1;33m(\u001b[0m\u001b[0mself\u001b[0m\u001b[1;33m,\u001b[0m \u001b[0ms\u001b[0m\u001b[1;33m,\u001b[0m \u001b[0mvalue\u001b[0m\u001b[1;33m)\u001b[0m\u001b[1;33m\u001b[0m\u001b[1;33m\u001b[0m\u001b[0m\n\u001b[0;32m     19\u001b[0m             \u001b[1;32mreturn\u001b[0m \u001b[0mvalue\u001b[0m\u001b[1;33m\u001b[0m\u001b[1;33m\u001b[0m\u001b[0m\n",
      "\u001b[1;32mc:\\programdata\\miniconda3\\lib\\site-packages\\cassiopeia\\core\\match.py\u001b[0m in \u001b[0;36mtimeline\u001b[1;34m(self)\u001b[0m\n\u001b[0;32m   1673\u001b[0m     \u001b[1;32mdef\u001b[0m \u001b[0mtimeline\u001b[0m\u001b[1;33m(\u001b[0m\u001b[0mself\u001b[0m\u001b[1;33m)\u001b[0m \u001b[1;33m->\u001b[0m \u001b[0mTimeline\u001b[0m\u001b[1;33m:\u001b[0m\u001b[1;33m\u001b[0m\u001b[1;33m\u001b[0m\u001b[0m\n\u001b[0;32m   1674\u001b[0m         \u001b[1;32mif\u001b[0m \u001b[0mself\u001b[0m\u001b[1;33m.\u001b[0m\u001b[0m_timeline\u001b[0m \u001b[1;32mis\u001b[0m \u001b[1;32mNone\u001b[0m\u001b[1;33m:\u001b[0m\u001b[1;33m\u001b[0m\u001b[1;33m\u001b[0m\u001b[0m\n\u001b[1;32m-> 1675\u001b[1;33m             \u001b[0mself\u001b[0m\u001b[1;33m.\u001b[0m\u001b[0m_timeline\u001b[0m \u001b[1;33m=\u001b[0m \u001b[0mTimeline\u001b[0m\u001b[1;33m(\u001b[0m\u001b[0mid\u001b[0m\u001b[1;33m=\u001b[0m\u001b[0mself\u001b[0m\u001b[1;33m.\u001b[0m\u001b[0mid\u001b[0m\u001b[1;33m,\u001b[0m \u001b[0mcontinent\u001b[0m\u001b[1;33m=\u001b[0m\u001b[0mself\u001b[0m\u001b[1;33m.\u001b[0m\u001b[0mcontinent\u001b[0m\u001b[1;33m)\u001b[0m\u001b[1;33m\u001b[0m\u001b[1;33m\u001b[0m\u001b[0m\n\u001b[0m\u001b[0;32m   1676\u001b[0m         \u001b[1;32mreturn\u001b[0m \u001b[0mself\u001b[0m\u001b[1;33m.\u001b[0m\u001b[0m_timeline\u001b[0m\u001b[1;33m\u001b[0m\u001b[1;33m\u001b[0m\u001b[0m\n\u001b[0;32m   1677\u001b[0m \u001b[1;33m\u001b[0m\u001b[0m\n",
      "\u001b[1;32mc:\\programdata\\miniconda3\\lib\\site-packages\\cassiopeia\\core\\common.py\u001b[0m in \u001b[0;36m__call__\u001b[1;34m(cls, *args, **kwargs)\u001b[0m\n\u001b[0;32m    178\u001b[0m         \u001b[1;32mif\u001b[0m \u001b[0mhasattr\u001b[0m\u001b[1;33m(\u001b[0m\u001b[0mcls\u001b[0m\u001b[1;33m,\u001b[0m \u001b[1;34m\"version\"\u001b[0m\u001b[1;33m)\u001b[0m \u001b[1;32mand\u001b[0m \u001b[0mquery\u001b[0m\u001b[1;33m.\u001b[0m\u001b[0mget\u001b[0m\u001b[1;33m(\u001b[0m\u001b[1;34m\"version\"\u001b[0m\u001b[1;33m,\u001b[0m \u001b[1;32mNone\u001b[0m\u001b[1;33m)\u001b[0m \u001b[1;32mis\u001b[0m \u001b[1;32mNone\u001b[0m \u001b[1;32mand\u001b[0m \u001b[0mcls\u001b[0m\u001b[1;33m.\u001b[0m\u001b[0m__name__\u001b[0m \u001b[1;32mnot\u001b[0m \u001b[1;32min\u001b[0m \u001b[1;33m[\u001b[0m\u001b[1;34m\"Realms\"\u001b[0m\u001b[1;33m,\u001b[0m \u001b[1;34m\"Match\"\u001b[0m\u001b[1;33m]\u001b[0m\u001b[1;33m:\u001b[0m\u001b[1;33m\u001b[0m\u001b[1;33m\u001b[0m\u001b[0m\n\u001b[0;32m    179\u001b[0m             \u001b[0mquery\u001b[0m\u001b[1;33m[\u001b[0m\u001b[1;34m\"version\"\u001b[0m\u001b[1;33m]\u001b[0m \u001b[1;33m=\u001b[0m \u001b[0mget_latest_version\u001b[0m\u001b[1;33m(\u001b[0m\u001b[0mregion\u001b[0m\u001b[1;33m=\u001b[0m\u001b[0mquery\u001b[0m\u001b[1;33m[\u001b[0m\u001b[1;34m\"region\"\u001b[0m\u001b[1;33m]\u001b[0m\u001b[1;33m,\u001b[0m \u001b[0mendpoint\u001b[0m\u001b[1;33m=\u001b[0m\u001b[1;32mNone\u001b[0m\u001b[1;33m)\u001b[0m\u001b[1;33m\u001b[0m\u001b[1;33m\u001b[0m\u001b[0m\n\u001b[1;32m--> 180\u001b[1;33m         \u001b[1;32mreturn\u001b[0m \u001b[0mpipeline\u001b[0m\u001b[1;33m.\u001b[0m\u001b[0mget\u001b[0m\u001b[1;33m(\u001b[0m\u001b[0mcls\u001b[0m\u001b[1;33m,\u001b[0m \u001b[0mquery\u001b[0m\u001b[1;33m=\u001b[0m\u001b[0mquery\u001b[0m\u001b[1;33m)\u001b[0m\u001b[1;33m\u001b[0m\u001b[1;33m\u001b[0m\u001b[0m\n\u001b[0m\u001b[0;32m    181\u001b[0m \u001b[1;33m\u001b[0m\u001b[0m\n\u001b[0;32m    182\u001b[0m \u001b[1;33m\u001b[0m\u001b[0m\n",
      "\u001b[1;32mc:\\programdata\\miniconda3\\lib\\site-packages\\datapipelines\\pipelines.py\u001b[0m in \u001b[0;36mget\u001b[1;34m(self, type, query)\u001b[0m\n\u001b[0;32m    457\u001b[0m         \u001b[1;32mfor\u001b[0m \u001b[0mhandler\u001b[0m \u001b[1;32min\u001b[0m \u001b[0mhandlers\u001b[0m\u001b[1;33m:\u001b[0m\u001b[1;33m\u001b[0m\u001b[1;33m\u001b[0m\u001b[0m\n\u001b[0;32m    458\u001b[0m             \u001b[1;32mtry\u001b[0m\u001b[1;33m:\u001b[0m\u001b[1;33m\u001b[0m\u001b[1;33m\u001b[0m\u001b[0m\n\u001b[1;32m--> 459\u001b[1;33m                 \u001b[1;32mreturn\u001b[0m \u001b[0mhandler\u001b[0m\u001b[1;33m.\u001b[0m\u001b[0mget\u001b[0m\u001b[1;33m(\u001b[0m\u001b[0mquery\u001b[0m\u001b[1;33m,\u001b[0m \u001b[0mcontext\u001b[0m\u001b[1;33m)\u001b[0m\u001b[1;33m\u001b[0m\u001b[1;33m\u001b[0m\u001b[0m\n\u001b[0m\u001b[0;32m    460\u001b[0m             \u001b[1;32mexcept\u001b[0m \u001b[0mNotFoundError\u001b[0m\u001b[1;33m:\u001b[0m\u001b[1;33m\u001b[0m\u001b[1;33m\u001b[0m\u001b[0m\n\u001b[0;32m    461\u001b[0m                 \u001b[1;32mpass\u001b[0m\u001b[1;33m\u001b[0m\u001b[1;33m\u001b[0m\u001b[0m\n",
      "\u001b[1;32mc:\\programdata\\miniconda3\\lib\\site-packages\\datapipelines\\pipelines.py\u001b[0m in \u001b[0;36mget\u001b[1;34m(self, query, context)\u001b[0m\n\u001b[0;32m    183\u001b[0m             \u001b[0mThe\u001b[0m \u001b[0mrequested\u001b[0m \u001b[0mobject\u001b[0m\u001b[1;33m.\u001b[0m\u001b[1;33m\u001b[0m\u001b[1;33m\u001b[0m\u001b[0m\n\u001b[0;32m    184\u001b[0m         \"\"\"\n\u001b[1;32m--> 185\u001b[1;33m         \u001b[0mresult\u001b[0m \u001b[1;33m=\u001b[0m \u001b[0mself\u001b[0m\u001b[1;33m.\u001b[0m\u001b[0m_source\u001b[0m\u001b[1;33m.\u001b[0m\u001b[0mget\u001b[0m\u001b[1;33m(\u001b[0m\u001b[0mself\u001b[0m\u001b[1;33m.\u001b[0m\u001b[0m_source_type\u001b[0m\u001b[1;33m,\u001b[0m \u001b[0mdeepcopy\u001b[0m\u001b[1;33m(\u001b[0m\u001b[0mquery\u001b[0m\u001b[1;33m)\u001b[0m\u001b[1;33m,\u001b[0m \u001b[0mcontext\u001b[0m\u001b[1;33m)\u001b[0m\u001b[1;33m\u001b[0m\u001b[1;33m\u001b[0m\u001b[0m\n\u001b[0m\u001b[0;32m    186\u001b[0m         \u001b[0mLOGGER\u001b[0m\u001b[1;33m.\u001b[0m\u001b[0minfo\u001b[0m\u001b[1;33m(\u001b[0m\u001b[1;34m\"Got result \\\"{result}\\\" from query \\\"{query}\\\" of source \\\"{source}\\\"\"\u001b[0m\u001b[1;33m.\u001b[0m\u001b[0mformat\u001b[0m\u001b[1;33m(\u001b[0m\u001b[0mresult\u001b[0m\u001b[1;33m=\u001b[0m\u001b[0mresult\u001b[0m\u001b[1;33m,\u001b[0m \u001b[0mquery\u001b[0m\u001b[1;33m=\u001b[0m\u001b[0mquery\u001b[0m\u001b[1;33m,\u001b[0m \u001b[0msource\u001b[0m\u001b[1;33m=\u001b[0m\u001b[0mself\u001b[0m\u001b[1;33m.\u001b[0m\u001b[0m_source\u001b[0m\u001b[1;33m)\u001b[0m\u001b[1;33m)\u001b[0m\u001b[1;33m\u001b[0m\u001b[1;33m\u001b[0m\u001b[0m\n\u001b[0;32m    187\u001b[0m \u001b[1;33m\u001b[0m\u001b[0m\n",
      "\u001b[1;32mc:\\programdata\\miniconda3\\lib\\site-packages\\datapipelines\\sources.py\u001b[0m in \u001b[0;36mwrapper\u001b[1;34m(self, type, query, context)\u001b[0m\n\u001b[0;32m     67\u001b[0m             \u001b[0mcall\u001b[0m \u001b[1;33m=\u001b[0m \u001b[0mdispatcher\u001b[0m\u001b[1;33m.\u001b[0m\u001b[0mdispatch\u001b[0m\u001b[1;33m(\u001b[0m\u001b[0mtype\u001b[0m\u001b[1;33m)\u001b[0m\u001b[1;33m\u001b[0m\u001b[1;33m\u001b[0m\u001b[0m\n\u001b[0;32m     68\u001b[0m             \u001b[1;32mtry\u001b[0m\u001b[1;33m:\u001b[0m\u001b[1;33m\u001b[0m\u001b[1;33m\u001b[0m\u001b[0m\n\u001b[1;32m---> 69\u001b[1;33m                 \u001b[1;32mreturn\u001b[0m \u001b[0mcall\u001b[0m\u001b[1;33m(\u001b[0m\u001b[0mself\u001b[0m\u001b[1;33m,\u001b[0m \u001b[0mquery\u001b[0m\u001b[1;33m,\u001b[0m \u001b[0mcontext\u001b[0m\u001b[1;33m=\u001b[0m\u001b[0mcontext\u001b[0m\u001b[1;33m)\u001b[0m\u001b[1;33m\u001b[0m\u001b[1;33m\u001b[0m\u001b[0m\n\u001b[0m\u001b[0;32m     70\u001b[0m             \u001b[1;32mexcept\u001b[0m \u001b[0mTypeError\u001b[0m\u001b[1;33m:\u001b[0m\u001b[1;33m\u001b[0m\u001b[1;33m\u001b[0m\u001b[0m\n\u001b[0;32m     71\u001b[0m                 \u001b[1;32mraise\u001b[0m \u001b[0mDataSource\u001b[0m\u001b[1;33m.\u001b[0m\u001b[0munsupported\u001b[0m\u001b[1;33m(\u001b[0m\u001b[0mtype\u001b[0m\u001b[1;33m)\u001b[0m\u001b[1;33m\u001b[0m\u001b[1;33m\u001b[0m\u001b[0m\n",
      "\u001b[1;32mc:\\programdata\\miniconda3\\lib\\site-packages\\datapipelines\\queries.py\u001b[0m in \u001b[0;36mwrapped\u001b[1;34m(self, query, context)\u001b[0m\n\u001b[0;32m    323\u001b[0m                 \u001b[0mtransform\u001b[0m\u001b[1;33m(\u001b[0m\u001b[0mquery\u001b[0m\u001b[1;33m)\u001b[0m\u001b[1;33m\u001b[0m\u001b[1;33m\u001b[0m\u001b[0m\n\u001b[0;32m    324\u001b[0m \u001b[1;33m\u001b[0m\u001b[0m\n\u001b[1;32m--> 325\u001b[1;33m             \u001b[0mvalidator\u001b[0m\u001b[1;33m(\u001b[0m\u001b[0mquery\u001b[0m\u001b[1;33m)\u001b[0m\u001b[1;33m\u001b[0m\u001b[1;33m\u001b[0m\u001b[0m\n\u001b[0m\u001b[0;32m    326\u001b[0m             \u001b[1;32mreturn\u001b[0m \u001b[0mmethod\u001b[0m\u001b[1;33m(\u001b[0m\u001b[0mself\u001b[0m\u001b[1;33m,\u001b[0m \u001b[0mquery\u001b[0m\u001b[1;33m,\u001b[0m \u001b[0mcontext\u001b[0m\u001b[1;33m)\u001b[0m\u001b[1;33m\u001b[0m\u001b[1;33m\u001b[0m\u001b[0m\n\u001b[0;32m    327\u001b[0m \u001b[1;33m\u001b[0m\u001b[0m\n",
      "\u001b[1;32mc:\\programdata\\miniconda3\\lib\\site-packages\\datapipelines\\queries.py\u001b[0m in \u001b[0;36m__call__\u001b[1;34m(self, query, context)\u001b[0m\n\u001b[0;32m    207\u001b[0m \u001b[1;33m\u001b[0m\u001b[0m\n\u001b[0;32m    208\u001b[0m     \u001b[1;32mdef\u001b[0m \u001b[0m__call__\u001b[0m\u001b[1;33m(\u001b[0m\u001b[0mself\u001b[0m\u001b[1;33m,\u001b[0m \u001b[0mquery\u001b[0m\u001b[1;33m:\u001b[0m \u001b[0mMutableMapping\u001b[0m\u001b[1;33m[\u001b[0m\u001b[0mstr\u001b[0m\u001b[1;33m,\u001b[0m \u001b[0mAny\u001b[0m\u001b[1;33m]\u001b[0m\u001b[1;33m,\u001b[0m \u001b[0mcontext\u001b[0m\u001b[1;33m:\u001b[0m \u001b[0mPipelineContext\u001b[0m \u001b[1;33m=\u001b[0m \u001b[1;32mNone\u001b[0m\u001b[1;33m)\u001b[0m \u001b[1;33m->\u001b[0m \u001b[1;32mTrue\u001b[0m\u001b[1;33m:\u001b[0m\u001b[1;33m\u001b[0m\u001b[1;33m\u001b[0m\u001b[0m\n\u001b[1;32m--> 209\u001b[1;33m         \u001b[1;32mreturn\u001b[0m \u001b[0mself\u001b[0m\u001b[1;33m.\u001b[0m\u001b[0m_root\u001b[0m\u001b[1;33m.\u001b[0m\u001b[0mevaluate\u001b[0m\u001b[1;33m(\u001b[0m\u001b[0mquery\u001b[0m\u001b[1;33m,\u001b[0m \u001b[0mcontext\u001b[0m\u001b[1;33m)\u001b[0m\u001b[1;33m\u001b[0m\u001b[1;33m\u001b[0m\u001b[0m\n\u001b[0m\u001b[0;32m    210\u001b[0m \u001b[1;33m\u001b[0m\u001b[0m\n\u001b[0;32m    211\u001b[0m     \u001b[1;32mdef\u001b[0m \u001b[0mhas\u001b[0m\u001b[1;33m(\u001b[0m\u001b[0mself\u001b[0m\u001b[1;33m,\u001b[0m \u001b[0mkey\u001b[0m\u001b[1;33m:\u001b[0m \u001b[0mstr\u001b[0m\u001b[1;33m)\u001b[0m \u001b[1;33m->\u001b[0m \u001b[1;34m\"QueryValidator\"\u001b[0m\u001b[1;33m:\u001b[0m\u001b[1;33m\u001b[0m\u001b[1;33m\u001b[0m\u001b[0m\n",
      "\u001b[1;32mc:\\programdata\\miniconda3\\lib\\site-packages\\datapipelines\\queries.py\u001b[0m in \u001b[0;36mevaluate\u001b[1;34m(self, query, context)\u001b[0m\n\u001b[0;32m     58\u001b[0m         \u001b[1;31m# children and return True\u001b[0m\u001b[1;33m\u001b[0m\u001b[1;33m\u001b[0m\u001b[1;33m\u001b[0m\u001b[0m\n\u001b[0;32m     59\u001b[0m         \u001b[1;32mfor\u001b[0m \u001b[0mchild\u001b[0m \u001b[1;32min\u001b[0m \u001b[0mself\u001b[0m\u001b[1;33m.\u001b[0m\u001b[0mchildren\u001b[0m\u001b[1;33m:\u001b[0m\u001b[1;33m\u001b[0m\u001b[1;33m\u001b[0m\u001b[0m\n\u001b[1;32m---> 60\u001b[1;33m             \u001b[0mchild\u001b[0m\u001b[1;33m.\u001b[0m\u001b[0mevaluate\u001b[0m\u001b[1;33m(\u001b[0m\u001b[0mquery\u001b[0m\u001b[1;33m,\u001b[0m \u001b[0mcontext\u001b[0m\u001b[1;33m)\u001b[0m\u001b[1;33m\u001b[0m\u001b[1;33m\u001b[0m\u001b[0m\n\u001b[0m\u001b[0;32m     61\u001b[0m         \u001b[1;32mreturn\u001b[0m \u001b[1;32mTrue\u001b[0m\u001b[1;33m\u001b[0m\u001b[1;33m\u001b[0m\u001b[0m\n\u001b[0;32m     62\u001b[0m \u001b[1;33m\u001b[0m\u001b[0m\n",
      "\u001b[1;32mc:\\programdata\\miniconda3\\lib\\site-packages\\datapipelines\\queries.py\u001b[0m in \u001b[0;36mevaluate\u001b[1;34m(self, query, context)\u001b[0m\n\u001b[0;32m    196\u001b[0m             \u001b[1;32mraise\u001b[0m \u001b[0mMissingKeyError\u001b[0m\u001b[1;33m(\u001b[0m\u001b[1;34m\"{key} must be in query!\"\u001b[0m\u001b[1;33m.\u001b[0m\u001b[0mformat\u001b[0m\u001b[1;33m(\u001b[0m\u001b[0mkey\u001b[0m\u001b[1;33m=\u001b[0m\u001b[0mself\u001b[0m\u001b[1;33m.\u001b[0m\u001b[0mkey\u001b[0m\u001b[1;33m)\u001b[0m\u001b[1;33m)\u001b[0m\u001b[1;33m\u001b[0m\u001b[1;33m\u001b[0m\u001b[0m\n\u001b[0;32m    197\u001b[0m         \u001b[1;32mif\u001b[0m \u001b[0mself\u001b[0m\u001b[1;33m.\u001b[0m\u001b[0mchild\u001b[0m\u001b[1;33m:\u001b[0m\u001b[1;33m\u001b[0m\u001b[1;33m\u001b[0m\u001b[0m\n\u001b[1;32m--> 198\u001b[1;33m             \u001b[0mself\u001b[0m\u001b[1;33m.\u001b[0m\u001b[0mchild\u001b[0m\u001b[1;33m.\u001b[0m\u001b[0mevaluate\u001b[0m\u001b[1;33m(\u001b[0m\u001b[0mquery\u001b[0m\u001b[1;33m,\u001b[0m \u001b[0mcontext\u001b[0m\u001b[1;33m)\u001b[0m\u001b[1;33m\u001b[0m\u001b[1;33m\u001b[0m\u001b[0m\n\u001b[0m\u001b[0;32m    199\u001b[0m         \u001b[1;32mreturn\u001b[0m \u001b[0mhas_key\u001b[0m\u001b[1;33m\u001b[0m\u001b[1;33m\u001b[0m\u001b[0m\n\u001b[0;32m    200\u001b[0m \u001b[1;33m\u001b[0m\u001b[0m\n",
      "\u001b[1;32mc:\\programdata\\miniconda3\\lib\\site-packages\\datapipelines\\queries.py\u001b[0m in \u001b[0;36mevaluate\u001b[1;34m(self, query, context)\u001b[0m\n\u001b[0;32m    171\u001b[0m                     \u001b[0mquery\u001b[0m\u001b[1;33m[\u001b[0m\u001b[0mself\u001b[0m\u001b[1;33m.\u001b[0m\u001b[0mkey\u001b[0m\u001b[1;33m]\u001b[0m \u001b[1;33m=\u001b[0m \u001b[0mvalue\u001b[0m\u001b[1;33m\u001b[0m\u001b[1;33m\u001b[0m\u001b[0m\n\u001b[0;32m    172\u001b[0m                     \u001b[1;32mreturn\u001b[0m \u001b[1;32mTrue\u001b[0m\u001b[1;33m\u001b[0m\u001b[1;33m\u001b[0m\u001b[0m\n\u001b[1;32m--> 173\u001b[1;33m             \u001b[1;32mraise\u001b[0m \u001b[0mWrongValueTypeError\u001b[0m\u001b[1;33m(\u001b[0m\u001b[1;34m\"{key} must be of type {type} in query! Got {badtype}.\"\u001b[0m\u001b[1;33m.\u001b[0m\u001b[0mformat\u001b[0m\u001b[1;33m(\u001b[0m\u001b[0mkey\u001b[0m\u001b[1;33m=\u001b[0m\u001b[0mself\u001b[0m\u001b[1;33m.\u001b[0m\u001b[0mkey\u001b[0m\u001b[1;33m,\u001b[0m \u001b[0mtype\u001b[0m\u001b[1;33m=\u001b[0m\u001b[0mself\u001b[0m\u001b[1;33m,\u001b[0m \u001b[0mbadtype\u001b[0m\u001b[1;33m=\u001b[0m\u001b[0mtype\u001b[0m\u001b[1;33m(\u001b[0m\u001b[0mvalue\u001b[0m\u001b[1;33m)\u001b[0m\u001b[1;33m)\u001b[0m\u001b[1;33m)\u001b[0m\u001b[1;33m\u001b[0m\u001b[1;33m\u001b[0m\u001b[0m\n\u001b[0m\u001b[0;32m    174\u001b[0m         \u001b[1;32mexcept\u001b[0m \u001b[0mKeyError\u001b[0m\u001b[1;33m:\u001b[0m\u001b[1;33m\u001b[0m\u001b[1;33m\u001b[0m\u001b[0m\n\u001b[0;32m    175\u001b[0m             \u001b[1;32mif\u001b[0m \u001b[0mself\u001b[0m\u001b[1;33m.\u001b[0m\u001b[0mchild\u001b[0m\u001b[1;33m:\u001b[0m\u001b[1;33m\u001b[0m\u001b[1;33m\u001b[0m\u001b[0m\n",
      "\u001b[1;31mWrongValueTypeError\u001b[0m: id must be of type str in query! Got 5624769277."
     ]
    }
   ],
   "source": [
    "matches[0].participants[0].timeline.events"
   ]
  },
  {
   "cell_type": "code",
   "execution_count": 64,
   "metadata": {},
   "outputs": [
    {
     "data": {
      "text/plain": [
       "True"
      ]
     },
     "execution_count": 64,
     "metadata": {},
     "output_type": "execute_result"
    }
   ],
   "source": [
    "matches[0].participants[\"Paragon Violet\"].stats.win"
   ]
  },
  {
   "cell_type": "code",
   "execution_count": 61,
   "metadata": {},
   "outputs": [
    {
     "data": {
      "text/plain": [
       "['_ParticipantStats__match',\n",
       " '_ParticipantStats__participant',\n",
       " '__call__',\n",
       " '__class__',\n",
       " '__contains__',\n",
       " '__delattr__',\n",
       " '__dict__',\n",
       " '__dir__',\n",
       " '__doc__',\n",
       " '__eq__',\n",
       " '__format__',\n",
       " '__ge__',\n",
       " '__getattribute__',\n",
       " '__gt__',\n",
       " '__hash__',\n",
       " '__init__',\n",
       " '__init_subclass__',\n",
       " '__json__',\n",
       " '__le__',\n",
       " '__lt__',\n",
       " '__module__',\n",
       " '__ne__',\n",
       " '__new__',\n",
       " '__reduce__',\n",
       " '__reduce_ex__',\n",
       " '__repr__',\n",
       " '__setattr__',\n",
       " '__sizeof__',\n",
       " '__str__',\n",
       " '__subclasshook__',\n",
       " '__weakref__',\n",
       " '_data',\n",
       " '_data_types',\n",
       " '_renamed',\n",
       " 'assists',\n",
       " 'baron_kills',\n",
       " 'bounty_level',\n",
       " 'champion_experience',\n",
       " 'champion_transform',\n",
       " 'consumables_purchased',\n",
       " 'damage_dealt_to_buildings',\n",
       " 'damage_dealt_to_objectives',\n",
       " 'damage_dealt_to_turrets',\n",
       " 'damage_self_mitigated',\n",
       " 'deaths',\n",
       " 'double_kills',\n",
       " 'dragon_kills',\n",
       " 'first_blood_assist',\n",
       " 'first_blood_kill',\n",
       " 'first_tower_assist',\n",
       " 'first_tower_kill',\n",
       " 'from_data',\n",
       " 'gold_earned',\n",
       " 'gold_spent',\n",
       " 'inhibitor_kills',\n",
       " 'inhibitor_takedowns',\n",
       " 'inhibitors_lost',\n",
       " 'items',\n",
       " 'items_purchased',\n",
       " 'kda',\n",
       " 'killing_sprees',\n",
       " 'kills',\n",
       " 'largest_critical_strike',\n",
       " 'largest_killing_spree',\n",
       " 'largest_multi_kill',\n",
       " 'level',\n",
       " 'longest_time_spent_living',\n",
       " 'magic_damage_dealt',\n",
       " 'magic_damage_dealt_to_champions',\n",
       " 'magic_damage_taken',\n",
       " 'neutral_minions_killed',\n",
       " 'nexus_kills',\n",
       " 'nexus_lost',\n",
       " 'nexus_takedowns',\n",
       " 'objectives_stolen',\n",
       " 'objectives_stolen_assists',\n",
       " 'penta_kills',\n",
       " 'physical_damage_dealt',\n",
       " 'physical_damage_dealt_to_champions',\n",
       " 'physical_damage_taken',\n",
       " 'quadra_kills',\n",
       " 'sight_wards_bought',\n",
       " 'spell_1_casts',\n",
       " 'spell_2_casts',\n",
       " 'spell_3_casts',\n",
       " 'spell_4_casts',\n",
       " 'summoner_spell_1_casts',\n",
       " 'summoner_spell_2_casts',\n",
       " 'time_CCing_others',\n",
       " 'time_played',\n",
       " 'to_dict',\n",
       " 'to_json',\n",
       " 'total_damage_dealt',\n",
       " 'total_damage_dealt_to_champions',\n",
       " 'total_damage_shielded_on_teammates',\n",
       " 'total_damage_taken',\n",
       " 'total_heal',\n",
       " 'total_heals_on_teammates',\n",
       " 'total_minions_killed',\n",
       " 'total_time_cc_dealt',\n",
       " 'total_time_spent_dead',\n",
       " 'total_units_healed',\n",
       " 'triple_kills',\n",
       " 'true_damage_dealt',\n",
       " 'true_damage_dealt_to_champions',\n",
       " 'true_damage_taken',\n",
       " 'turret_kills',\n",
       " 'turret_takedowns',\n",
       " 'turrets_lost',\n",
       " 'unreal_kills',\n",
       " 'vision_score',\n",
       " 'vision_wards_bought',\n",
       " 'vision_wards_placed',\n",
       " 'wards_killed',\n",
       " 'wards_placed',\n",
       " 'win']"
      ]
     },
     "execution_count": 61,
     "metadata": {},
     "output_type": "execute_result"
    }
   ],
   "source": [
    "dir(matches[0].participants[\"Paragon Violet\"].stats)"
   ]
  },
  {
   "cell_type": "code",
   "execution_count": null,
   "metadata": {},
   "outputs": [],
   "source": [
    "matches[0].participants[0]"
   ]
  },
  {
   "cell_type": "code",
   "execution_count": null,
   "metadata": {},
   "outputs": [],
   "source": []
  },
  {
   "cell_type": "code",
   "execution_count": null,
   "metadata": {},
   "outputs": [],
   "source": [
    "dir(matches[2])"
   ]
  },
  {
   "cell_type": "code",
   "execution_count": 16,
   "metadata": {},
   "outputs": [],
   "source": [
    "def get_ranked_champions(summoner_name):\n",
    "    champions = []\n",
    "    name = \"\"\n",
    "    for i in range(len(matches)):\n",
    "        if matches[i].queue.name == \"ranked_solo_fives\":\n",
    "            for j in range(10):\n",
    "                if matches[i].participants[j].summoner.name == summoner_name:\n",
    "\n",
    "\n",
    "                    name = matches[i].participants[j].champion.name\n",
    "                    champions.append(name)\n",
    "\n",
    "    return champions"
   ]
  },
  {
   "cell_type": "code",
   "execution_count": 39,
   "metadata": {},
   "outputs": [],
   "source": [
    "def make_matchID_list(match_history):\n",
    "    #converts t\n",
    "    matchID_list=[]\n",
    "    for item in match_history:\n",
    "        matchID_list.append(item.id)\n",
    "    return matchID_list"
   ]
  },
  {
   "cell_type": "code",
   "execution_count": 48,
   "metadata": {},
   "outputs": [
    {
     "data": {
      "text/plain": [
       "5624773815"
      ]
     },
     "execution_count": 48,
     "metadata": {},
     "output_type": "execute_result"
    }
   ],
   "source": [
    "ID_MATCHES[1]"
   ]
  },
  {
   "cell_type": "code",
   "execution_count": 60,
   "metadata": {},
   "outputs": [
    {
     "name": "stdout",
     "output_type": "stream",
     "text": [
      "Making call: https://europe.api.riotgames.com/lol/match/v5/matches/5624773815\n"
     ]
    },
    {
     "ename": "NotFoundError",
     "evalue": "No source returned a query result!",
     "output_type": "error",
     "traceback": [
      "\u001b[1;31m---------------------------------------------------------------------------\u001b[0m",
      "\u001b[1;31mNotFoundError\u001b[0m                             Traceback (most recent call last)",
      "\u001b[1;32m<ipython-input-60-4bb58a7f4e56>\u001b[0m in \u001b[0;36m<module>\u001b[1;34m\u001b[0m\n\u001b[1;32m----> 1\u001b[1;33m \u001b[0mdir\u001b[0m\u001b[1;33m(\u001b[0m\u001b[0mcass\u001b[0m\u001b[1;33m.\u001b[0m\u001b[0mMatch\u001b[0m\u001b[1;33m(\u001b[0m\u001b[0mregion\u001b[0m \u001b[1;33m=\u001b[0m \u001b[1;34m\"EUW\"\u001b[0m\u001b[1;33m,\u001b[0m\u001b[0mid\u001b[0m \u001b[1;33m=\u001b[0m \u001b[1;34m\"5624773815\"\u001b[0m\u001b[1;33m)\u001b[0m\u001b[1;33m.\u001b[0m\u001b[0mparticipants\u001b[0m\u001b[1;33m[\u001b[0m\u001b[1;34m\"Paragon Violet\"\u001b[0m\u001b[1;33m]\u001b[0m\u001b[1;33m.\u001b[0m\u001b[0mtimeline\u001b[0m\u001b[1;33m.\u001b[0m\u001b[0mevents\u001b[0m\u001b[1;33m)\u001b[0m\u001b[1;33m\u001b[0m\u001b[1;33m\u001b[0m\u001b[0m\n\u001b[0m",
      "\u001b[1;32mc:\\programdata\\miniconda3\\lib\\site-packages\\merakicommons\\ghost.py\u001b[0m in \u001b[0;36m__get__\u001b[1;34m(self, obj, obj_type)\u001b[0m\n\u001b[0;32m     85\u001b[0m \u001b[1;33m\u001b[0m\u001b[0m\n\u001b[0;32m     86\u001b[0m             \u001b[1;32mtry\u001b[0m\u001b[1;33m:\u001b[0m\u001b[1;33m\u001b[0m\u001b[1;33m\u001b[0m\u001b[0m\n\u001b[1;32m---> 87\u001b[1;33m                 \u001b[1;32mreturn\u001b[0m \u001b[0mself\u001b[0m\u001b[1;33m.\u001b[0m\u001b[0mfget\u001b[0m\u001b[1;33m(\u001b[0m\u001b[0mobj\u001b[0m\u001b[1;33m)\u001b[0m\u001b[1;33m\u001b[0m\u001b[1;33m\u001b[0m\u001b[0m\n\u001b[0m\u001b[0;32m     88\u001b[0m             \u001b[1;32mexcept\u001b[0m \u001b[0mGhostLoadingRequiredError\u001b[0m\u001b[1;33m:\u001b[0m\u001b[1;33m\u001b[0m\u001b[1;33m\u001b[0m\u001b[0m\n\u001b[0;32m     89\u001b[0m                 \u001b[0mload_group\u001b[0m \u001b[1;33m=\u001b[0m \u001b[0mself\u001b[0m\u001b[1;33m.\u001b[0m\u001b[0mfget\u001b[0m\u001b[1;33m.\u001b[0m\u001b[0m_Ghost__load_group\u001b[0m\u001b[1;33m\u001b[0m\u001b[1;33m\u001b[0m\u001b[0m\n",
      "\u001b[1;32mc:\\programdata\\miniconda3\\lib\\site-packages\\merakicommons\\ghost.py\u001b[0m in \u001b[0;36mwrapper\u001b[1;34m(*args, **kwargs)\u001b[0m\n\u001b[0;32m     39\u001b[0m         \u001b[1;32mdef\u001b[0m \u001b[0mwrapper\u001b[0m\u001b[1;33m(\u001b[0m\u001b[1;33m*\u001b[0m\u001b[0margs\u001b[0m\u001b[1;33m,\u001b[0m \u001b[1;33m**\u001b[0m\u001b[0mkwargs\u001b[0m\u001b[1;33m)\u001b[0m\u001b[1;33m:\u001b[0m\u001b[1;33m\u001b[0m\u001b[1;33m\u001b[0m\u001b[0m\n\u001b[0;32m     40\u001b[0m             \u001b[1;32mtry\u001b[0m\u001b[1;33m:\u001b[0m\u001b[1;33m\u001b[0m\u001b[1;33m\u001b[0m\u001b[0m\n\u001b[1;32m---> 41\u001b[1;33m                 \u001b[1;32mreturn\u001b[0m \u001b[0mmethod\u001b[0m\u001b[1;33m(\u001b[0m\u001b[1;33m*\u001b[0m\u001b[0margs\u001b[0m\u001b[1;33m,\u001b[0m \u001b[1;33m**\u001b[0m\u001b[0mkwargs\u001b[0m\u001b[1;33m)\u001b[0m\u001b[1;33m\u001b[0m\u001b[1;33m\u001b[0m\u001b[0m\n\u001b[0m\u001b[0;32m     42\u001b[0m             \u001b[1;32mexcept\u001b[0m \u001b[0merrors\u001b[0m \u001b[1;32mas\u001b[0m \u001b[0merror\u001b[0m\u001b[1;33m:\u001b[0m\u001b[1;33m\u001b[0m\u001b[1;33m\u001b[0m\u001b[0m\n\u001b[0;32m     43\u001b[0m                 \u001b[1;32mraise\u001b[0m \u001b[0mGhostLoadingRequiredError\u001b[0m\u001b[1;33m(\u001b[0m\u001b[0mstr\u001b[0m\u001b[1;33m(\u001b[0m\u001b[0merror\u001b[0m\u001b[1;33m)\u001b[0m\u001b[1;33m)\u001b[0m\u001b[1;33m\u001b[0m\u001b[1;33m\u001b[0m\u001b[0m\n",
      "\u001b[1;32mc:\\programdata\\miniconda3\\lib\\site-packages\\cassiopeia\\core\\match.py\u001b[0m in \u001b[0;36mparticipants\u001b[1;34m(self)\u001b[0m\n\u001b[0;32m   1693\u001b[0m         \u001b[1;32mif\u001b[0m \u001b[0mhasattr\u001b[0m\u001b[1;33m(\u001b[0m\u001b[0mself\u001b[0m\u001b[1;33m.\u001b[0m\u001b[0m_data\u001b[0m\u001b[1;33m[\u001b[0m\u001b[0mMatchData\u001b[0m\u001b[1;33m]\u001b[0m\u001b[1;33m,\u001b[0m \u001b[1;34m\"participants\"\u001b[0m\u001b[1;33m)\u001b[0m\u001b[1;33m:\u001b[0m\u001b[1;33m\u001b[0m\u001b[1;33m\u001b[0m\u001b[0m\n\u001b[0;32m   1694\u001b[0m             \u001b[1;32mif\u001b[0m \u001b[1;32mnot\u001b[0m \u001b[0mself\u001b[0m\u001b[1;33m.\u001b[0m\u001b[0m_Ghost__is_loaded\u001b[0m\u001b[1;33m(\u001b[0m\u001b[0mMatchData\u001b[0m\u001b[1;33m)\u001b[0m\u001b[1;33m:\u001b[0m\u001b[1;33m\u001b[0m\u001b[1;33m\u001b[0m\u001b[0m\n\u001b[1;32m-> 1695\u001b[1;33m                 \u001b[0mself\u001b[0m\u001b[1;33m.\u001b[0m\u001b[0m__load__\u001b[0m\u001b[1;33m(\u001b[0m\u001b[0mMatchData\u001b[0m\u001b[1;33m)\u001b[0m\u001b[1;33m\u001b[0m\u001b[1;33m\u001b[0m\u001b[0m\n\u001b[0m\u001b[0;32m   1696\u001b[0m                 \u001b[0mself\u001b[0m\u001b[1;33m.\u001b[0m\u001b[0m_Ghost__set_loaded\u001b[0m\u001b[1;33m(\u001b[0m\u001b[0mMatchData\u001b[0m\u001b[1;33m)\u001b[0m  \u001b[1;31m# __load__ doesn't trigger __set_loaded.\u001b[0m\u001b[1;33m\u001b[0m\u001b[1;33m\u001b[0m\u001b[0m\n\u001b[0;32m   1697\u001b[0m             \u001b[1;32mfor\u001b[0m \u001b[0mp\u001b[0m \u001b[1;32min\u001b[0m \u001b[0mself\u001b[0m\u001b[1;33m.\u001b[0m\u001b[0m_data\u001b[0m\u001b[1;33m[\u001b[0m\u001b[0mMatchData\u001b[0m\u001b[1;33m]\u001b[0m\u001b[1;33m.\u001b[0m\u001b[0mparticipants\u001b[0m\u001b[1;33m:\u001b[0m\u001b[1;33m\u001b[0m\u001b[1;33m\u001b[0m\u001b[0m\n",
      "\u001b[1;32mc:\\programdata\\miniconda3\\lib\\site-packages\\cassiopeia\\core\\common.py\u001b[0m in \u001b[0;36m__load__\u001b[1;34m(self, load_group, load_groups)\u001b[0m\n\u001b[0;32m    244\u001b[0m             \u001b[1;32mif\u001b[0m \u001b[0mhasattr\u001b[0m\u001b[1;33m(\u001b[0m\u001b[0mself\u001b[0m\u001b[1;33m.\u001b[0m\u001b[0m__class__\u001b[0m\u001b[1;33m,\u001b[0m \u001b[1;34m\"version\"\u001b[0m\u001b[1;33m)\u001b[0m \u001b[1;32mand\u001b[0m \u001b[1;34m\"version\"\u001b[0m \u001b[1;32mnot\u001b[0m \u001b[1;32min\u001b[0m \u001b[0mquery\u001b[0m \u001b[1;32mand\u001b[0m \u001b[0mself\u001b[0m\u001b[1;33m.\u001b[0m\u001b[0m__class__\u001b[0m\u001b[1;33m.\u001b[0m\u001b[0m__name__\u001b[0m \u001b[1;32mnot\u001b[0m \u001b[1;32min\u001b[0m \u001b[1;33m[\u001b[0m\u001b[1;34m\"Realms\"\u001b[0m\u001b[1;33m,\u001b[0m \u001b[1;34m\"Match\"\u001b[0m\u001b[1;33m]\u001b[0m\u001b[1;33m:\u001b[0m\u001b[1;33m\u001b[0m\u001b[1;33m\u001b[0m\u001b[0m\n\u001b[0;32m    245\u001b[0m                 \u001b[0mquery\u001b[0m\u001b[1;33m[\u001b[0m\u001b[1;34m\"version\"\u001b[0m\u001b[1;33m]\u001b[0m \u001b[1;33m=\u001b[0m \u001b[0mget_latest_version\u001b[0m\u001b[1;33m(\u001b[0m\u001b[0mregion\u001b[0m\u001b[1;33m=\u001b[0m\u001b[0mquery\u001b[0m\u001b[1;33m[\u001b[0m\u001b[1;34m\"region\"\u001b[0m\u001b[1;33m]\u001b[0m\u001b[1;33m,\u001b[0m \u001b[0mendpoint\u001b[0m\u001b[1;33m=\u001b[0m\u001b[1;32mNone\u001b[0m\u001b[1;33m)\u001b[0m\u001b[1;33m\u001b[0m\u001b[1;33m\u001b[0m\u001b[0m\n\u001b[1;32m--> 246\u001b[1;33m             \u001b[0mdata\u001b[0m \u001b[1;33m=\u001b[0m \u001b[0mconfiguration\u001b[0m\u001b[1;33m.\u001b[0m\u001b[0msettings\u001b[0m\u001b[1;33m.\u001b[0m\u001b[0mpipeline\u001b[0m\u001b[1;33m.\u001b[0m\u001b[0mget\u001b[0m\u001b[1;33m(\u001b[0m\u001b[0mtype\u001b[0m\u001b[1;33m=\u001b[0m\u001b[0mself\u001b[0m\u001b[1;33m.\u001b[0m\u001b[0m_load_types\u001b[0m\u001b[1;33m[\u001b[0m\u001b[0mload_group\u001b[0m\u001b[1;33m]\u001b[0m\u001b[1;33m,\u001b[0m \u001b[0mquery\u001b[0m\u001b[1;33m=\u001b[0m\u001b[0mquery\u001b[0m\u001b[1;33m)\u001b[0m\u001b[1;33m\u001b[0m\u001b[1;33m\u001b[0m\u001b[0m\n\u001b[0m\u001b[0;32m    247\u001b[0m             \u001b[0mself\u001b[0m\u001b[1;33m.\u001b[0m\u001b[0m__load_hook__\u001b[0m\u001b[1;33m(\u001b[0m\u001b[0mload_group\u001b[0m\u001b[1;33m,\u001b[0m \u001b[0mdata\u001b[0m\u001b[1;33m)\u001b[0m\u001b[1;33m\u001b[0m\u001b[1;33m\u001b[0m\u001b[0m\n\u001b[0;32m    248\u001b[0m \u001b[1;33m\u001b[0m\u001b[0m\n",
      "\u001b[1;32mc:\\programdata\\miniconda3\\lib\\site-packages\\datapipelines\\pipelines.py\u001b[0m in \u001b[0;36mget\u001b[1;34m(self, type, query)\u001b[0m\n\u001b[0;32m    461\u001b[0m                 \u001b[1;32mpass\u001b[0m\u001b[1;33m\u001b[0m\u001b[1;33m\u001b[0m\u001b[0m\n\u001b[0;32m    462\u001b[0m \u001b[1;33m\u001b[0m\u001b[0m\n\u001b[1;32m--> 463\u001b[1;33m         \u001b[1;32mraise\u001b[0m \u001b[0mNotFoundError\u001b[0m\u001b[1;33m(\u001b[0m\u001b[1;34m\"No source returned a query result!\"\u001b[0m\u001b[1;33m)\u001b[0m\u001b[1;33m\u001b[0m\u001b[1;33m\u001b[0m\u001b[0m\n\u001b[0m\u001b[0;32m    464\u001b[0m \u001b[1;33m\u001b[0m\u001b[0m\n\u001b[0;32m    465\u001b[0m     \u001b[1;32mdef\u001b[0m \u001b[0mget_many\u001b[0m\u001b[1;33m(\u001b[0m\u001b[0mself\u001b[0m\u001b[1;33m,\u001b[0m \u001b[0mtype\u001b[0m\u001b[1;33m:\u001b[0m \u001b[0mType\u001b[0m\u001b[1;33m[\u001b[0m\u001b[0mT\u001b[0m\u001b[1;33m]\u001b[0m\u001b[1;33m,\u001b[0m \u001b[0mquery\u001b[0m\u001b[1;33m:\u001b[0m \u001b[0mMapping\u001b[0m\u001b[1;33m[\u001b[0m\u001b[0mstr\u001b[0m\u001b[1;33m,\u001b[0m \u001b[0mAny\u001b[0m\u001b[1;33m]\u001b[0m\u001b[1;33m,\u001b[0m \u001b[0mstreaming\u001b[0m\u001b[1;33m:\u001b[0m \u001b[0mbool\u001b[0m \u001b[1;33m=\u001b[0m \u001b[1;32mFalse\u001b[0m\u001b[1;33m)\u001b[0m \u001b[1;33m->\u001b[0m \u001b[0mIterable\u001b[0m\u001b[1;33m[\u001b[0m\u001b[0mT\u001b[0m\u001b[1;33m]\u001b[0m\u001b[1;33m:\u001b[0m\u001b[1;33m\u001b[0m\u001b[1;33m\u001b[0m\u001b[0m\n",
      "\u001b[1;31mNotFoundError\u001b[0m: No source returned a query result!"
     ]
    }
   ],
   "source": [
    "dir(cass.Match(region = \"EUW\",id = \"5624773815\").participants[\"Paragon Violet\"].timeline.events)"
   ]
  },
  {
   "cell_type": "code",
   "execution_count": 56,
   "metadata": {},
   "outputs": [
    {
     "data": {
      "text/plain": [
       "['_Ghost__all_loaded',\n",
       " '_Ghost__is_loaded',\n",
       " '_Ghost__load_groups',\n",
       " '_Ghost__property',\n",
       " '_Ghost__set_loaded',\n",
       " '__call__',\n",
       " '__class__',\n",
       " '__contains__',\n",
       " '__delattr__',\n",
       " '__dict__',\n",
       " '__dir__',\n",
       " '__doc__',\n",
       " '__eq__',\n",
       " '__format__',\n",
       " '__ge__',\n",
       " '__get_query__',\n",
       " '__get_query_from_kwargs__',\n",
       " '__getattribute__',\n",
       " '__gt__',\n",
       " '__hash__',\n",
       " '__init__',\n",
       " '__init_subclass__',\n",
       " '__json__',\n",
       " '__le__',\n",
       " '__load__',\n",
       " '__load_hook__',\n",
       " '__lt__',\n",
       " '__module__',\n",
       " '__ne__',\n",
       " '__new__',\n",
       " '__reduce__',\n",
       " '__reduce_ex__',\n",
       " '__repr__',\n",
       " '__setattr__',\n",
       " '__sizeof__',\n",
       " '__str__',\n",
       " '__subclasshook__',\n",
       " '__weakref__',\n",
       " '_construct_normally',\n",
       " '_data_types',\n",
       " '_load_type',\n",
       " '_load_types',\n",
       " '_renamed',\n",
       " 'blue_team',\n",
       " 'continent',\n",
       " 'creation',\n",
       " 'duration',\n",
       " 'exists',\n",
       " 'from_data',\n",
       " 'from_match_reference',\n",
       " 'game_type',\n",
       " 'id',\n",
       " 'is_remake',\n",
       " 'kills_heatmap',\n",
       " 'load',\n",
       " 'map',\n",
       " 'mode',\n",
       " 'participants',\n",
       " 'patch',\n",
       " 'platform',\n",
       " 'property',\n",
       " 'queue',\n",
       " 'red_team',\n",
       " 'region',\n",
       " 'start',\n",
       " 'teams',\n",
       " 'timeline',\n",
       " 'to_dict',\n",
       " 'to_json',\n",
       " 'type',\n",
       " 'version']"
      ]
     },
     "execution_count": 56,
     "metadata": {},
     "output_type": "execute_result"
    }
   ],
   "source": [
    "dir(cass.Match)"
   ]
  },
  {
   "cell_type": "code",
   "execution_count": null,
   "metadata": {},
   "outputs": [],
   "source": []
  },
  {
   "cell_type": "code",
   "execution_count": 44,
   "metadata": {},
   "outputs": [],
   "source": [
    "ID_MATCHES = make_matchID_list(matches)"
   ]
  },
  {
   "cell_type": "code",
   "execution_count": null,
   "metadata": {},
   "outputs": [],
   "source": []
  },
  {
   "cell_type": "code",
   "execution_count": 20,
   "metadata": {},
   "outputs": [
    {
     "data": {
      "text/plain": [
       "['Ezreal',\n",
       " 'Jinx',\n",
       " 'Jinx',\n",
       " 'Jinx',\n",
       " 'Jinx',\n",
       " 'Ezreal',\n",
       " 'Jinx',\n",
       " 'Ezreal',\n",
       " 'Jhin',\n",
       " 'Lucian',\n",
       " 'Ezreal',\n",
       " 'Jinx',\n",
       " 'Jinx',\n",
       " 'Jinx',\n",
       " 'Jinx',\n",
       " 'Ezreal',\n",
       " 'Jinx',\n",
       " 'Ezreal',\n",
       " 'Jhin',\n",
       " 'Lucian']"
      ]
     },
     "execution_count": 20,
     "metadata": {},
     "output_type": "execute_result"
    }
   ],
   "source": [
    "get_ranked_champions(\"Paragon Violet\")"
   ]
  },
  {
   "cell_type": "code",
   "execution_count": null,
   "metadata": {},
   "outputs": [],
   "source": [
    "me = Summoner(name=\"PARAGON VIOLET\", region=\"EUW\")\n",
    "mastery = cass. get_champion_masteries(summoner = \"paragon violet\",region = \"EUW\")"
   ]
  },
  {
   "cell_type": "code",
   "execution_count": null,
   "metadata": {},
   "outputs": [],
   "source": [
    "mastery[\"Ezreal\"].points"
   ]
  },
  {
   "cell_type": "markdown",
   "metadata": {},
   "source": [
    "Well Now It is time to actually start making the progmram\n"
   ]
  },
  {
   "cell_type": "markdown",
   "metadata": {},
   "source": [
    "### Question 1: What champs do I play the most?\n"
   ]
  },
  {
   "cell_type": "code",
   "execution_count": 76,
   "metadata": {},
   "outputs": [],
   "source": [
    "import pandas as pd\n",
    "import numpy as np"
   ]
  },
  {
   "cell_type": "code",
   "execution_count": 66,
   "metadata": {},
   "outputs": [],
   "source": [
    "def get_champions(summoner_name):\n",
    "    champions = []\n",
    "    name = \"\"\n",
    "    for i in range(len(matches)):\n",
    "        for j in range(10):\n",
    "            if matches[i].participants[j].summoner.name == summoner_name:\n",
    "\n",
    "\n",
    "                name = matches[i].participants[j].champion.name\n",
    "                champions.append(name)\n",
    "\n",
    "    return champions"
   ]
  },
  {
   "cell_type": "code",
   "execution_count": 72,
   "metadata": {
    "collapsed": true
   },
   "outputs": [
    {
     "name": "stdout",
     "output_type": "stream",
     "text": [
      "Making call: https://europe.api.riotgames.com/lol/match/v5/matches/EUW1_5621991018\n",
      "Making call: https://europe.api.riotgames.com/lol/match/v5/matches/EUW1_5621896422\n",
      "Making call: https://europe.api.riotgames.com/lol/match/v5/matches/EUW1_5613809995\n",
      "Making call: https://europe.api.riotgames.com/lol/match/v5/matches/EUW1_5605312188\n",
      "Making call: https://europe.api.riotgames.com/lol/match/v5/matches/EUW1_5599836869\n",
      "Making call: https://europe.api.riotgames.com/lol/match/v5/matches/EUW1_5598515941\n",
      "Making call: https://europe.api.riotgames.com/lol/match/v5/matches/EUW1_5598511178\n",
      "Making call: https://europe.api.riotgames.com/lol/match/v5/matches/EUW1_5594845963\n",
      "Making call: https://europe.api.riotgames.com/lol/match/v5/matches/EUW1_5594871516\n",
      "Making call: https://europe.api.riotgames.com/lol/match/v5/matches/EUW1_5592909481\n",
      "Making call: https://europe.api.riotgames.com/lol/match/v5/matches/EUW1_5591005297\n",
      "Making call: https://europe.api.riotgames.com/lol/match/v5/matches/EUW1_5589351967\n",
      "Making call: https://europe.api.riotgames.com/lol/match/v5/matches/EUW1_5541617094\n",
      "Making call: https://europe.api.riotgames.com/lol/match/v5/matches/EUW1_5533557274\n",
      "Making call: https://europe.api.riotgames.com/lol/match/v5/matches/EUW1_5518158540\n",
      "Making call: https://europe.api.riotgames.com/lol/match/v5/matches/EUW1_5518084919\n",
      "Making call: https://europe.api.riotgames.com/lol/match/v5/matches/EUW1_5516785954\n",
      "Making call: https://europe.api.riotgames.com/lol/match/v5/matches/EUW1_5516751468\n",
      "Making call: https://europe.api.riotgames.com/lol/match/v5/matches/EUW1_5516459485\n",
      "Making call: https://europe.api.riotgames.com/lol/match/v5/matches/EUW1_5515140204\n"
     ]
    }
   ],
   "source": [
    "champion_names_paragon = get_champions(\"Paragon Violet\")"
   ]
  },
  {
   "cell_type": "code",
   "execution_count": 73,
   "metadata": {},
   "outputs": [
    {
     "name": "stdout",
     "output_type": "stream",
     "text": [
      "Making call: https://ddragon.leagueoflegends.com/cdn/11.23.1/data/en_GB/championFull.json\n",
      "Making call: https://ddragon.leagueoflegends.com/cdn/11.22.1/data/en_GB/championFull.json\n",
      "Making call: https://ddragon.leagueoflegends.com/cdn/11.21.1/data/en_GB/championFull.json\n"
     ]
    }
   ],
   "source": [
    "champion_names_hanged = get_champions(\"hanged zoer\")"
   ]
  },
  {
   "cell_type": "code",
   "execution_count": 70,
   "metadata": {},
   "outputs": [],
   "source": [
    "me = Summoner(name=\"hanged zoer\", region=\"EUW\")"
   ]
  },
  {
   "cell_type": "code",
   "execution_count": 71,
   "metadata": {
    "collapsed": true
   },
   "outputs": [
    {
     "name": "stdout",
     "output_type": "stream",
     "text": [
      "Making call: https://euw1.api.riotgames.com/lol/summoner/v4/summoners/by-name/hanged%20zoer\n",
      "Making call: https://europe.api.riotgames.com/lol/match/v5/matches/by-puuid/3lAsMTKPZnClnYeCtG6efVUd7B1f_L-cLsTCFFilQdf3K86BmC00JK8kDAYj3lS1DejURmH6vAlOsg/ids?beginIndex=0&endIndex=100\n",
      "Making call: https://europe.api.riotgames.com/lol/match/v5/matches/by-puuid/3lAsMTKPZnClnYeCtG6efVUd7B1f_L-cLsTCFFilQdf3K86BmC00JK8kDAYj3lS1DejURmH6vAlOsg/ids?beginIndex=0&endIndex=100\n",
      "Making call: https://europe.api.riotgames.com/lol/match/v5/matches/by-puuid/3lAsMTKPZnClnYeCtG6efVUd7B1f_L-cLsTCFFilQdf3K86BmC00JK8kDAYj3lS1DejURmH6vAlOsg/ids?beginIndex=0&endIndex=100\n",
      "Making call: https://europe.api.riotgames.com/lol/match/v5/matches/by-puuid/3lAsMTKPZnClnYeCtG6efVUd7B1f_L-cLsTCFFilQdf3K86BmC00JK8kDAYj3lS1DejURmH6vAlOsg/ids?beginIndex=0&endIndex=100\n",
      "Making call: https://europe.api.riotgames.com/lol/match/v5/matches/by-puuid/3lAsMTKPZnClnYeCtG6efVUd7B1f_L-cLsTCFFilQdf3K86BmC00JK8kDAYj3lS1DejURmH6vAlOsg/ids?beginIndex=0&endIndex=100\n",
      "Making call: https://europe.api.riotgames.com/lol/match/v5/matches/by-puuid/3lAsMTKPZnClnYeCtG6efVUd7B1f_L-cLsTCFFilQdf3K86BmC00JK8kDAYj3lS1DejURmH6vAlOsg/ids?beginIndex=0&endIndex=100\n",
      "Making call: https://europe.api.riotgames.com/lol/match/v5/matches/by-puuid/3lAsMTKPZnClnYeCtG6efVUd7B1f_L-cLsTCFFilQdf3K86BmC00JK8kDAYj3lS1DejURmH6vAlOsg/ids?beginIndex=0&endIndex=100\n",
      "Making call: https://europe.api.riotgames.com/lol/match/v5/matches/by-puuid/3lAsMTKPZnClnYeCtG6efVUd7B1f_L-cLsTCFFilQdf3K86BmC00JK8kDAYj3lS1DejURmH6vAlOsg/ids?beginIndex=0&endIndex=100\n",
      "Making call: https://europe.api.riotgames.com/lol/match/v5/matches/by-puuid/3lAsMTKPZnClnYeCtG6efVUd7B1f_L-cLsTCFFilQdf3K86BmC00JK8kDAYj3lS1DejURmH6vAlOsg/ids?beginIndex=0&endIndex=100\n",
      "Making call: https://europe.api.riotgames.com/lol/match/v5/matches/by-puuid/3lAsMTKPZnClnYeCtG6efVUd7B1f_L-cLsTCFFilQdf3K86BmC00JK8kDAYj3lS1DejURmH6vAlOsg/ids?beginIndex=0&endIndex=100\n",
      "Making call: https://europe.api.riotgames.com/lol/match/v5/matches/by-puuid/3lAsMTKPZnClnYeCtG6efVUd7B1f_L-cLsTCFFilQdf3K86BmC00JK8kDAYj3lS1DejURmH6vAlOsg/ids?beginIndex=0&endIndex=100\n",
      "Making call: https://europe.api.riotgames.com/lol/match/v5/matches/by-puuid/3lAsMTKPZnClnYeCtG6efVUd7B1f_L-cLsTCFFilQdf3K86BmC00JK8kDAYj3lS1DejURmH6vAlOsg/ids?beginIndex=0&endIndex=100\n",
      "Making call: https://europe.api.riotgames.com/lol/match/v5/matches/by-puuid/3lAsMTKPZnClnYeCtG6efVUd7B1f_L-cLsTCFFilQdf3K86BmC00JK8kDAYj3lS1DejURmH6vAlOsg/ids?beginIndex=0&endIndex=100\n",
      "Making call: https://europe.api.riotgames.com/lol/match/v5/matches/by-puuid/3lAsMTKPZnClnYeCtG6efVUd7B1f_L-cLsTCFFilQdf3K86BmC00JK8kDAYj3lS1DejURmH6vAlOsg/ids?beginIndex=0&endIndex=100\n",
      "Making call: https://europe.api.riotgames.com/lol/match/v5/matches/by-puuid/3lAsMTKPZnClnYeCtG6efVUd7B1f_L-cLsTCFFilQdf3K86BmC00JK8kDAYj3lS1DejURmH6vAlOsg/ids?beginIndex=0&endIndex=100\n",
      "Making call: https://europe.api.riotgames.com/lol/match/v5/matches/by-puuid/3lAsMTKPZnClnYeCtG6efVUd7B1f_L-cLsTCFFilQdf3K86BmC00JK8kDAYj3lS1DejURmH6vAlOsg/ids?beginIndex=0&endIndex=100\n",
      "Making call: https://europe.api.riotgames.com/lol/match/v5/matches/by-puuid/3lAsMTKPZnClnYeCtG6efVUd7B1f_L-cLsTCFFilQdf3K86BmC00JK8kDAYj3lS1DejURmH6vAlOsg/ids?beginIndex=0&endIndex=100\n",
      "Making call: https://europe.api.riotgames.com/lol/match/v5/matches/by-puuid/3lAsMTKPZnClnYeCtG6efVUd7B1f_L-cLsTCFFilQdf3K86BmC00JK8kDAYj3lS1DejURmH6vAlOsg/ids?beginIndex=0&endIndex=100\n",
      "Making call: https://europe.api.riotgames.com/lol/match/v5/matches/by-puuid/3lAsMTKPZnClnYeCtG6efVUd7B1f_L-cLsTCFFilQdf3K86BmC00JK8kDAYj3lS1DejURmH6vAlOsg/ids?beginIndex=0&endIndex=100\n",
      "Making call: https://europe.api.riotgames.com/lol/match/v5/matches/by-puuid/3lAsMTKPZnClnYeCtG6efVUd7B1f_L-cLsTCFFilQdf3K86BmC00JK8kDAYj3lS1DejURmH6vAlOsg/ids?beginIndex=0&endIndex=100\n",
      "Making call: https://europe.api.riotgames.com/lol/match/v5/matches/by-puuid/3lAsMTKPZnClnYeCtG6efVUd7B1f_L-cLsTCFFilQdf3K86BmC00JK8kDAYj3lS1DejURmH6vAlOsg/ids?beginIndex=0&endIndex=100\n"
     ]
    },
    {
     "ename": "IndexError",
     "evalue": "list index out of range",
     "output_type": "error",
     "traceback": [
      "\u001b[1;31m---------------------------------------------------------------------------\u001b[0m",
      "\u001b[1;31mIndexError\u001b[0m                                Traceback (most recent call last)",
      "\u001b[1;32mc:\\programdata\\miniconda3\\lib\\site-packages\\merakicommons\\container.py\u001b[0m in \u001b[0;36m__getitem__\u001b[1;34m(self, item)\u001b[0m\n\u001b[0;32m    451\u001b[0m         \u001b[1;32mtry\u001b[0m\u001b[1;33m:\u001b[0m\u001b[1;33m\u001b[0m\u001b[1;33m\u001b[0m\u001b[0m\n\u001b[1;32m--> 452\u001b[1;33m             \u001b[1;32mreturn\u001b[0m \u001b[0mlist\u001b[0m\u001b[1;33m.\u001b[0m\u001b[0m__getitem__\u001b[0m\u001b[1;33m(\u001b[0m\u001b[0mself\u001b[0m\u001b[1;33m,\u001b[0m \u001b[0mitem\u001b[0m\u001b[1;33m)\u001b[0m\u001b[1;33m\u001b[0m\u001b[1;33m\u001b[0m\u001b[0m\n\u001b[0m\u001b[0;32m    453\u001b[0m         \u001b[1;32mexcept\u001b[0m \u001b[0mIndexError\u001b[0m\u001b[1;33m:\u001b[0m\u001b[1;33m\u001b[0m\u001b[1;33m\u001b[0m\u001b[0m\n",
      "\u001b[1;31mIndexError\u001b[0m: list index out of range",
      "\nDuring handling of the above exception, another exception occurred:\n",
      "\u001b[1;31mIndexError\u001b[0m                                Traceback (most recent call last)",
      "\u001b[1;32m<ipython-input-71-0d9ade67739d>\u001b[0m in \u001b[0;36m<module>\u001b[1;34m\u001b[0m\n\u001b[0;32m      1\u001b[0m \u001b[1;32mfor\u001b[0m \u001b[0mi\u001b[0m \u001b[1;32min\u001b[0m \u001b[0mrange\u001b[0m\u001b[1;33m(\u001b[0m\u001b[1;36m50\u001b[0m\u001b[1;33m)\u001b[0m\u001b[1;33m:\u001b[0m\u001b[1;33m\u001b[0m\u001b[1;33m\u001b[0m\u001b[0m\n\u001b[1;32m----> 2\u001b[1;33m     \u001b[0mmatches\u001b[0m\u001b[1;33m.\u001b[0m\u001b[0mappend\u001b[0m\u001b[1;33m(\u001b[0m\u001b[0mme\u001b[0m\u001b[1;33m.\u001b[0m\u001b[0mmatch_history\u001b[0m\u001b[1;33m[\u001b[0m\u001b[0mi\u001b[0m\u001b[1;33m]\u001b[0m\u001b[1;33m)\u001b[0m\u001b[1;33m\u001b[0m\u001b[1;33m\u001b[0m\u001b[0m\n\u001b[0m",
      "\u001b[1;32mc:\\programdata\\miniconda3\\lib\\site-packages\\merakicommons\\container.py\u001b[0m in \u001b[0;36m__getitem__\u001b[1;34m(self, item)\u001b[0m\n\u001b[0;32m    601\u001b[0m             \u001b[1;32mif\u001b[0m \u001b[1;32mnot\u001b[0m \u001b[0misinstance\u001b[0m\u001b[1;33m(\u001b[0m\u001b[0mitem\u001b[0m\u001b[1;33m,\u001b[0m \u001b[1;33m(\u001b[0m\u001b[0mint\u001b[0m\u001b[1;33m,\u001b[0m \u001b[0mslice\u001b[0m\u001b[1;33m)\u001b[0m\u001b[1;33m)\u001b[0m\u001b[1;33m:\u001b[0m\u001b[1;33m\u001b[0m\u001b[1;33m\u001b[0m\u001b[0m\n\u001b[0;32m    602\u001b[0m                 \u001b[1;32mraise\u001b[0m \u001b[0mTypeError\u001b[0m\u001b[1;33m\u001b[0m\u001b[1;33m\u001b[0m\u001b[0m\n\u001b[1;32m--> 603\u001b[1;33m             \u001b[1;32mreturn\u001b[0m \u001b[0mLazyList\u001b[0m\u001b[1;33m.\u001b[0m\u001b[0m__getitem__\u001b[0m\u001b[1;33m(\u001b[0m\u001b[0mself\u001b[0m\u001b[1;33m,\u001b[0m \u001b[0mitem\u001b[0m\u001b[1;33m)\u001b[0m\u001b[1;33m\u001b[0m\u001b[1;33m\u001b[0m\u001b[0m\n\u001b[0m\u001b[0;32m    604\u001b[0m         \u001b[1;32mexcept\u001b[0m \u001b[0mTypeError\u001b[0m\u001b[1;33m:\u001b[0m\u001b[1;33m\u001b[0m\u001b[1;33m\u001b[0m\u001b[0m\n\u001b[0;32m    605\u001b[0m             \u001b[1;32mreturn\u001b[0m \u001b[0mSearchableList\u001b[0m\u001b[1;33m.\u001b[0m\u001b[0m__getitem__\u001b[0m\u001b[1;33m(\u001b[0m\u001b[0mself\u001b[0m\u001b[1;33m,\u001b[0m \u001b[0mitem\u001b[0m\u001b[1;33m)\u001b[0m\u001b[1;33m\u001b[0m\u001b[1;33m\u001b[0m\u001b[0m\n",
      "\u001b[1;32mc:\\programdata\\miniconda3\\lib\\site-packages\\merakicommons\\container.py\u001b[0m in \u001b[0;36m__getitem__\u001b[1;34m(self, item)\u001b[0m\n\u001b[0;32m    459\u001b[0m                 \u001b[1;32mpass\u001b[0m\u001b[1;33m\u001b[0m\u001b[1;33m\u001b[0m\u001b[0m\n\u001b[0;32m    460\u001b[0m             \u001b[1;31m# Now that we have 1) enough or 2) all the values, try returning again.\u001b[0m\u001b[1;33m\u001b[0m\u001b[1;33m\u001b[0m\u001b[1;33m\u001b[0m\u001b[0m\n\u001b[1;32m--> 461\u001b[1;33m             \u001b[1;32mreturn\u001b[0m \u001b[0mlist\u001b[0m\u001b[1;33m.\u001b[0m\u001b[0m__getitem__\u001b[0m\u001b[1;33m(\u001b[0m\u001b[0mself\u001b[0m\u001b[1;33m,\u001b[0m \u001b[0mitem\u001b[0m\u001b[1;33m)\u001b[0m\u001b[1;33m\u001b[0m\u001b[1;33m\u001b[0m\u001b[0m\n\u001b[0m\u001b[0;32m    462\u001b[0m \u001b[1;33m\u001b[0m\u001b[0m\n\u001b[0;32m    463\u001b[0m     \u001b[1;32mdef\u001b[0m \u001b[0m__delitem__\u001b[0m\u001b[1;33m(\u001b[0m\u001b[0mself\u001b[0m\u001b[1;33m,\u001b[0m \u001b[0mitem\u001b[0m\u001b[1;33m:\u001b[0m \u001b[0mAny\u001b[0m\u001b[1;33m)\u001b[0m \u001b[1;33m->\u001b[0m \u001b[1;32mNone\u001b[0m\u001b[1;33m:\u001b[0m\u001b[1;33m\u001b[0m\u001b[1;33m\u001b[0m\u001b[0m\n",
      "\u001b[1;31mIndexError\u001b[0m: list index out of range"
     ]
    }
   ],
   "source": [
    "for i in range(50):\n",
    "    matches.append(me.match_history[i])"
   ]
  },
  {
   "cell_type": "code",
   "execution_count": 74,
   "metadata": {},
   "outputs": [
    {
     "data": {
      "text/plain": [
       "['Sylas',\n",
       " 'Ezreal',\n",
       " 'Ezreal',\n",
       " 'Viktor',\n",
       " 'Jinx',\n",
       " \"Kai'Sa\",\n",
       " \"Kai'Sa\",\n",
       " 'Jinx',\n",
       " 'Jhin',\n",
       " 'Tryndamere',\n",
       " 'Jinx',\n",
       " 'Jinx',\n",
       " 'Aphelios',\n",
       " 'Swain',\n",
       " 'Ezreal',\n",
       " 'Jinx',\n",
       " 'Ezreal',\n",
       " 'Jhin',\n",
       " 'Jhin',\n",
       " 'Lucian',\n",
       " 'Sylas',\n",
       " 'Ezreal',\n",
       " 'Ezreal',\n",
       " 'Viktor',\n",
       " 'Jinx',\n",
       " \"Kai'Sa\",\n",
       " \"Kai'Sa\",\n",
       " 'Jinx',\n",
       " 'Jhin',\n",
       " 'Tryndamere',\n",
       " 'Jinx',\n",
       " 'Jinx',\n",
       " 'Aphelios',\n",
       " 'Swain',\n",
       " 'Ezreal',\n",
       " 'Jinx',\n",
       " 'Ezreal',\n",
       " 'Jhin',\n",
       " 'Jhin',\n",
       " 'Lucian']"
      ]
     },
     "execution_count": 74,
     "metadata": {},
     "output_type": "execute_result"
    }
   ],
   "source": [
    "champion_names_paragon"
   ]
  },
  {
   "cell_type": "code",
   "execution_count": 75,
   "metadata": {
    "collapsed": true
   },
   "outputs": [
    {
     "data": {
      "text/plain": [
       "['Master Yi',\n",
       " 'Sivir',\n",
       " 'Vayne',\n",
       " 'Jhin',\n",
       " 'Jhin',\n",
       " 'Jhin',\n",
       " 'Ezreal',\n",
       " 'Tryndamere',\n",
       " 'Ezreal',\n",
       " 'Jinx',\n",
       " 'Jhin',\n",
       " 'Vayne',\n",
       " 'Xayah',\n",
       " 'Ezreal',\n",
       " 'Karma',\n",
       " \"Kai'Sa\",\n",
       " \"Kai'Sa\",\n",
       " 'Vayne',\n",
       " \"Kai'Sa\",\n",
       " \"Kai'Sa\"]"
      ]
     },
     "execution_count": 75,
     "metadata": {},
     "output_type": "execute_result"
    }
   ],
   "source": [
    "champion_names_hanged"
   ]
  },
  {
   "cell_type": "code",
   "execution_count": 81,
   "metadata": {},
   "outputs": [],
   "source": [
    "data_temp_p = pd.DataFrame(data =champion_names_paragon )"
   ]
  },
  {
   "cell_type": "code",
   "execution_count": 96,
   "metadata": {},
   "outputs": [],
   "source": [
    "data_temp = pd.DataFrame(data = champion_names_hanged,columns={\"2\"})"
   ]
  },
  {
   "cell_type": "code",
   "execution_count": 98,
   "metadata": {
    "collapsed": true
   },
   "outputs": [
    {
     "data": {
      "text/html": [
       "<div>\n",
       "<style scoped>\n",
       "    .dataframe tbody tr th:only-of-type {\n",
       "        vertical-align: middle;\n",
       "    }\n",
       "\n",
       "    .dataframe tbody tr th {\n",
       "        vertical-align: top;\n",
       "    }\n",
       "\n",
       "    .dataframe thead th {\n",
       "        text-align: right;\n",
       "    }\n",
       "</style>\n",
       "<table border=\"1\" class=\"dataframe\">\n",
       "  <thead>\n",
       "    <tr style=\"text-align: right;\">\n",
       "      <th></th>\n",
       "      <th>Paragon</th>\n",
       "      <th>2</th>\n",
       "    </tr>\n",
       "  </thead>\n",
       "  <tbody>\n",
       "    <tr>\n",
       "      <th>0</th>\n",
       "      <td>Sylas</td>\n",
       "      <td>Master Yi</td>\n",
       "    </tr>\n",
       "    <tr>\n",
       "      <th>1</th>\n",
       "      <td>Ezreal</td>\n",
       "      <td>Sivir</td>\n",
       "    </tr>\n",
       "    <tr>\n",
       "      <th>2</th>\n",
       "      <td>Ezreal</td>\n",
       "      <td>Vayne</td>\n",
       "    </tr>\n",
       "    <tr>\n",
       "      <th>3</th>\n",
       "      <td>Viktor</td>\n",
       "      <td>Jhin</td>\n",
       "    </tr>\n",
       "    <tr>\n",
       "      <th>4</th>\n",
       "      <td>Jinx</td>\n",
       "      <td>Jhin</td>\n",
       "    </tr>\n",
       "    <tr>\n",
       "      <th>5</th>\n",
       "      <td>Kai'Sa</td>\n",
       "      <td>Jhin</td>\n",
       "    </tr>\n",
       "    <tr>\n",
       "      <th>6</th>\n",
       "      <td>Kai'Sa</td>\n",
       "      <td>Ezreal</td>\n",
       "    </tr>\n",
       "    <tr>\n",
       "      <th>7</th>\n",
       "      <td>Jinx</td>\n",
       "      <td>Tryndamere</td>\n",
       "    </tr>\n",
       "    <tr>\n",
       "      <th>8</th>\n",
       "      <td>Jhin</td>\n",
       "      <td>Ezreal</td>\n",
       "    </tr>\n",
       "    <tr>\n",
       "      <th>9</th>\n",
       "      <td>Tryndamere</td>\n",
       "      <td>Jinx</td>\n",
       "    </tr>\n",
       "    <tr>\n",
       "      <th>10</th>\n",
       "      <td>Jinx</td>\n",
       "      <td>Jhin</td>\n",
       "    </tr>\n",
       "    <tr>\n",
       "      <th>11</th>\n",
       "      <td>Jinx</td>\n",
       "      <td>Vayne</td>\n",
       "    </tr>\n",
       "    <tr>\n",
       "      <th>12</th>\n",
       "      <td>Aphelios</td>\n",
       "      <td>Xayah</td>\n",
       "    </tr>\n",
       "    <tr>\n",
       "      <th>13</th>\n",
       "      <td>Swain</td>\n",
       "      <td>Ezreal</td>\n",
       "    </tr>\n",
       "    <tr>\n",
       "      <th>14</th>\n",
       "      <td>Ezreal</td>\n",
       "      <td>Karma</td>\n",
       "    </tr>\n",
       "    <tr>\n",
       "      <th>15</th>\n",
       "      <td>Jinx</td>\n",
       "      <td>Kai'Sa</td>\n",
       "    </tr>\n",
       "    <tr>\n",
       "      <th>16</th>\n",
       "      <td>Ezreal</td>\n",
       "      <td>Kai'Sa</td>\n",
       "    </tr>\n",
       "    <tr>\n",
       "      <th>17</th>\n",
       "      <td>Jhin</td>\n",
       "      <td>Vayne</td>\n",
       "    </tr>\n",
       "    <tr>\n",
       "      <th>18</th>\n",
       "      <td>Jhin</td>\n",
       "      <td>Kai'Sa</td>\n",
       "    </tr>\n",
       "    <tr>\n",
       "      <th>19</th>\n",
       "      <td>Lucian</td>\n",
       "      <td>Kai'Sa</td>\n",
       "    </tr>\n",
       "    <tr>\n",
       "      <th>20</th>\n",
       "      <td>Sylas</td>\n",
       "      <td>NaN</td>\n",
       "    </tr>\n",
       "    <tr>\n",
       "      <th>21</th>\n",
       "      <td>Ezreal</td>\n",
       "      <td>NaN</td>\n",
       "    </tr>\n",
       "    <tr>\n",
       "      <th>22</th>\n",
       "      <td>Ezreal</td>\n",
       "      <td>NaN</td>\n",
       "    </tr>\n",
       "    <tr>\n",
       "      <th>23</th>\n",
       "      <td>Viktor</td>\n",
       "      <td>NaN</td>\n",
       "    </tr>\n",
       "    <tr>\n",
       "      <th>24</th>\n",
       "      <td>Jinx</td>\n",
       "      <td>NaN</td>\n",
       "    </tr>\n",
       "    <tr>\n",
       "      <th>25</th>\n",
       "      <td>Kai'Sa</td>\n",
       "      <td>NaN</td>\n",
       "    </tr>\n",
       "    <tr>\n",
       "      <th>26</th>\n",
       "      <td>Kai'Sa</td>\n",
       "      <td>NaN</td>\n",
       "    </tr>\n",
       "    <tr>\n",
       "      <th>27</th>\n",
       "      <td>Jinx</td>\n",
       "      <td>NaN</td>\n",
       "    </tr>\n",
       "    <tr>\n",
       "      <th>28</th>\n",
       "      <td>Jhin</td>\n",
       "      <td>NaN</td>\n",
       "    </tr>\n",
       "    <tr>\n",
       "      <th>29</th>\n",
       "      <td>Tryndamere</td>\n",
       "      <td>NaN</td>\n",
       "    </tr>\n",
       "    <tr>\n",
       "      <th>30</th>\n",
       "      <td>Jinx</td>\n",
       "      <td>NaN</td>\n",
       "    </tr>\n",
       "    <tr>\n",
       "      <th>31</th>\n",
       "      <td>Jinx</td>\n",
       "      <td>NaN</td>\n",
       "    </tr>\n",
       "    <tr>\n",
       "      <th>32</th>\n",
       "      <td>Aphelios</td>\n",
       "      <td>NaN</td>\n",
       "    </tr>\n",
       "    <tr>\n",
       "      <th>33</th>\n",
       "      <td>Swain</td>\n",
       "      <td>NaN</td>\n",
       "    </tr>\n",
       "    <tr>\n",
       "      <th>34</th>\n",
       "      <td>Ezreal</td>\n",
       "      <td>NaN</td>\n",
       "    </tr>\n",
       "    <tr>\n",
       "      <th>35</th>\n",
       "      <td>Jinx</td>\n",
       "      <td>NaN</td>\n",
       "    </tr>\n",
       "    <tr>\n",
       "      <th>36</th>\n",
       "      <td>Ezreal</td>\n",
       "      <td>NaN</td>\n",
       "    </tr>\n",
       "    <tr>\n",
       "      <th>37</th>\n",
       "      <td>Jhin</td>\n",
       "      <td>NaN</td>\n",
       "    </tr>\n",
       "    <tr>\n",
       "      <th>38</th>\n",
       "      <td>Jhin</td>\n",
       "      <td>NaN</td>\n",
       "    </tr>\n",
       "    <tr>\n",
       "      <th>39</th>\n",
       "      <td>Lucian</td>\n",
       "      <td>NaN</td>\n",
       "    </tr>\n",
       "  </tbody>\n",
       "</table>\n",
       "</div>"
      ],
      "text/plain": [
       "       Paragon           2\n",
       "0        Sylas   Master Yi\n",
       "1       Ezreal       Sivir\n",
       "2       Ezreal       Vayne\n",
       "3       Viktor        Jhin\n",
       "4         Jinx        Jhin\n",
       "5       Kai'Sa        Jhin\n",
       "6       Kai'Sa      Ezreal\n",
       "7         Jinx  Tryndamere\n",
       "8         Jhin      Ezreal\n",
       "9   Tryndamere        Jinx\n",
       "10        Jinx        Jhin\n",
       "11        Jinx       Vayne\n",
       "12    Aphelios       Xayah\n",
       "13       Swain      Ezreal\n",
       "14      Ezreal       Karma\n",
       "15        Jinx      Kai'Sa\n",
       "16      Ezreal      Kai'Sa\n",
       "17        Jhin       Vayne\n",
       "18        Jhin      Kai'Sa\n",
       "19      Lucian      Kai'Sa\n",
       "20       Sylas         NaN\n",
       "21      Ezreal         NaN\n",
       "22      Ezreal         NaN\n",
       "23      Viktor         NaN\n",
       "24        Jinx         NaN\n",
       "25      Kai'Sa         NaN\n",
       "26      Kai'Sa         NaN\n",
       "27        Jinx         NaN\n",
       "28        Jhin         NaN\n",
       "29  Tryndamere         NaN\n",
       "30        Jinx         NaN\n",
       "31        Jinx         NaN\n",
       "32    Aphelios         NaN\n",
       "33       Swain         NaN\n",
       "34      Ezreal         NaN\n",
       "35        Jinx         NaN\n",
       "36      Ezreal         NaN\n",
       "37        Jhin         NaN\n",
       "38        Jhin         NaN\n",
       "39      Lucian         NaN"
      ]
     },
     "execution_count": 98,
     "metadata": {},
     "output_type": "execute_result"
    }
   ],
   "source": [
    "final = pd.concat([data_temp_p,data_temp],axis = 1)\n",
    "final  = final.rename(columns = {0:\"Paragon\",2:\"Hanged\"})\n",
    "final"
   ]
  },
  {
   "cell_type": "code",
   "execution_count": 123,
   "metadata": {},
   "outputs": [
    {
     "data": {
      "text/plain": [
       "{'Jinx': 10,\n",
       " 'Ezreal': 8,\n",
       " 'Jhin': 6,\n",
       " \"Kai'Sa\": 4,\n",
       " 'Tryndamere': 2,\n",
       " 'Lucian': 2,\n",
       " 'Swain': 2,\n",
       " 'Sylas': 2,\n",
       " 'Aphelios': 2,\n",
       " 'Viktor': 2}"
      ]
     },
     "execution_count": 123,
     "metadata": {},
     "output_type": "execute_result"
    }
   ],
   "source": [
    "paragon = final.Paragon.value_counts().to_dict()\n",
    "paragon"
   ]
  },
  {
   "cell_type": "code",
   "execution_count": 122,
   "metadata": {},
   "outputs": [
    {
     "data": {
      "text/plain": [
       "{'Jhin': 4,\n",
       " \"Kai'Sa\": 4,\n",
       " 'Vayne': 3,\n",
       " 'Ezreal': 3,\n",
       " 'Jinx': 1,\n",
       " 'Tryndamere': 1,\n",
       " 'Xayah': 1,\n",
       " 'Master Yi': 1,\n",
       " 'Sivir': 1,\n",
       " 'Karma': 1}"
      ]
     },
     "execution_count": 122,
     "metadata": {},
     "output_type": "execute_result"
    }
   ],
   "source": [
    "hanged = final['2'].value_counts().to_dict()\n",
    "hanged"
   ]
  },
  {
   "cell_type": "code",
   "execution_count": 124,
   "metadata": {},
   "outputs": [],
   "source": [
    "paragon.update(hanged)"
   ]
  },
  {
   "cell_type": "code",
   "execution_count": 125,
   "metadata": {},
   "outputs": [
    {
     "data": {
      "text/plain": [
       "{'Jinx': 1,\n",
       " 'Ezreal': 3,\n",
       " 'Jhin': 4,\n",
       " \"Kai'Sa\": 4,\n",
       " 'Tryndamere': 1,\n",
       " 'Lucian': 2,\n",
       " 'Swain': 2,\n",
       " 'Sylas': 2,\n",
       " 'Aphelios': 2,\n",
       " 'Viktor': 2,\n",
       " 'Vayne': 3,\n",
       " 'Xayah': 1,\n",
       " 'Master Yi': 1,\n",
       " 'Sivir': 1,\n",
       " 'Karma': 1}"
      ]
     },
     "execution_count": 125,
     "metadata": {},
     "output_type": "execute_result"
    }
   ],
   "source": [
    "paragon"
   ]
  },
  {
   "cell_type": "code",
   "execution_count": null,
   "metadata": {},
   "outputs": [],
   "source": []
  }
 ],
 "metadata": {
  "anaconda-cloud": {},
  "kernelspec": {
   "display_name": "Python 3",
   "language": "python",
   "name": "python3"
  },
  "language_info": {
   "codemirror_mode": {
    "name": "ipython",
    "version": 3
   },
   "file_extension": ".py",
   "mimetype": "text/x-python",
   "name": "python",
   "nbconvert_exporter": "python",
   "pygments_lexer": "ipython3",
   "version": "3.8.5"
  }
 },
 "nbformat": 4,
 "nbformat_minor": 1
}
